{
 "cells": [
  {
   "cell_type": "markdown",
   "id": "96f09713",
   "metadata": {},
   "source": [
    "# EE400 Out-sample forecast predictability under Taylor rule fundamentals in ASEAN"
   ]
  },
  {
   "cell_type": "markdown",
   "id": "9cf505dc",
   "metadata": {},
   "source": [
    "This book is to download the necessary data from the IMF:IFS."
   ]
  },
  {
   "cell_type": "markdown",
   "id": "9c8be558",
   "metadata": {},
   "source": [
    "### First, the database that we use is \"International Financial Statistics (IFS)\""
   ]
  },
  {
   "cell_type": "code",
   "execution_count": 1,
   "id": "b99a680e",
   "metadata": {},
   "outputs": [
    {
     "name": "stdout",
     "output_type": "stream",
     "text": [
      "Government Finance Statistics Yearbook (GFSY 2014), Financial Assets and Liabilities by Counterpart Sector: GFSYFALCS2014\n",
      "International Financial Statistics (IFS), 2019 M01: IFS_2019M01\n",
      "International Financial Statistics (IFS), 2019 M02: IFS_2019M02\n",
      "International Financial Statistics (IFS), 2018 M03: IFS_2018M03\n",
      "International Financial Statistics (IFS), 2018 M08: IFS_2018M08\n",
      "International Financial Statistics (IFS), 2017 M08: IFS_2017M08\n",
      "International Financial Statistics (IFS), 2019 M05: IFS_2019M05\n",
      "Financial Access Survey (FAS), 2015: FAS_2015\n",
      "International Financial Statistics (IFS), 2020 M05: IFS_2020M05\n",
      "International Financial Statistics (IFS), 2019 M07: IFS_2019M07\n",
      "International Financial Statistics (IFS), 2018 M12: IFS_2018M12\n",
      "International Financial Statistics (IFS), 2020 M01: IFS_2020M01\n",
      "International Financial Statistics (IFS), 2019 M04: IFS_2019M04\n",
      "International Financial Statistics (IFS), 2019 M09: IFS_2019M09\n",
      "Financial Access Survey (FAS), 2017: FAS_2017\n",
      "International Financial Statistics (IFS), 2018 M06: IFS_2018M06\n",
      "International Financial Statistics (IFS), 2017 M12: IFS_2017M12\n",
      "Government Finance Statistics Yearbook (GFSY 2016), Financial Assets and Liabilities by Counterpart Sector: GFSFALCS2016\n",
      "International Financial Statistics (IFS), 2020 M07: IFS_2020M07\n",
      "International Financial Statistics (IFS), 2018 M02: IFS_2018M02\n",
      "International Financial Statistics (IFS), 2017 M11: IFS_2017M11\n",
      "International Financial Statistics (IFS), 2019 M06: IFS_2019M06\n",
      "International Financial Statistics (IFS), 2018 M05 : IFS_2018M05\n",
      "Government Finance Statistics Yearbook (GFSY 2015), Financial Assets and Liabilities by Counterpart Sector: GFSFALCS2015\n",
      "International Financial Statistics (IFS), 2017 M10: IFS_2017M10\n",
      "International Financial Statistics (IFS), 2019 M11: IFS_2019M11\n",
      "International Financial Statistics (IFS), 2018 M04: IFS_2018M04\n",
      "Government Finance Statistics Yearbook (GFSY 2017), Financial Assets and Liabilities by Counterpart Sector: GFSFALCS2017\n",
      "International Financial Statistics (IFS), 2019 M03: IFS_2019M03\n",
      "Financial Access Survey (FAS), 2016: FAS_2016\n",
      "International Financial Statistics (IFS), 2018 M07: IFS_2018M07\n",
      "International Financial Statistics (IFS), 2018 M11: IFS_2018M11\n",
      "International Financial Statistics (IFS), 2020 M03: IFS_2020M03\n",
      "International Financial Statistics (IFS), 2020 M04: IFS_2020M04\n",
      "International Financial Statistics (IFS), 2020 M02: IFS_2020M02\n",
      "International Financial Statistics (IFS), 2019 M08: IFS_2019M08\n",
      "International Financial Statistics (IFS), 2018 M09: IFS_2018M09\n",
      "International Financial Statistics (IFS), 2018 M10: IFS_2018M10\n",
      "International Financial Statistics (IFS), 2019 M12: IFS_2019M12\n",
      "International Financial Statistics (IFS), 2018 M01: IFS_2018M01\n",
      "Financial Access Survey (FAS), 2018: FAS_2018\n",
      "International Financial Statistics (IFS), 2017 M09: IFS_2017M09\n",
      "International Financial Statistics (IFS), 2020 M06: IFS_2020M06\n",
      "International Financial Statistics (IFS), 2019 M10: IFS_2019M10\n",
      "Government Finance Statistics Yearbook (GFSY 2019), Financial Assets and Liabilities by Counterpart Sector: GFSFALCS2019\n",
      "International Financial Statistics (IFS), Discontinued Series: IFS_DISCONTINUED\n",
      "International Financial Statistics (IFS), 2020 M11: IFS_2020M11\n",
      "International Financial Statistics (IFS), 2021 M03: IFS_2021M03\n",
      "International Financial Statistics (IFS), 2021 M02: IFS_2021M02\n",
      "International Financial Statistics (IFS), 2021 M01: IFS_2021M01\n",
      "International Financial Statistics (IFS), 2020 M08: IFS_2020M08\n",
      "International Financial Statistics (IFS), 2020 M10: IFS_2020M10\n",
      "International Financial Statistics (IFS), 2020 M12: IFS_2020M12\n",
      "International Financial Statistics (IFS), 2020 M09: IFS_2020M09\n",
      "International Financial Statistics (IFS), 2021 M04: IFS_2021M04\n",
      "International Financial Statistics (IFS), 2021 M05: IFS_2021M05\n",
      "Financial Development Index: FDI\n",
      "Financial Soundness Indicators (FSIs): FSI\n",
      "Financial Soundness Indicators: Reporting entities: FSIRE\n",
      "Financial Access Survey (FAS): FAS\n",
      "Government Finance Statistics (GFS), Financial Assets and Liabilities by Counterpart Sector: GFSFALCS\n",
      "International Financial Statistics (IFS): IFS\n",
      "Monetary and Financial Statistics (MFS): MFS\n"
     ]
    }
   ],
   "source": [
    "import requests  # Python 3.6\n",
    "\n",
    "url = 'http://dataservices.imf.org/REST/SDMX_JSON.svc/'\n",
    "key = 'Dataflow'  # Method with series information\n",
    "search_term = 'Financial'  # Term to find in series names\n",
    "series_list = requests.get(f'{url}{key}').json()\\\n",
    "            ['Structure']['Dataflows']['Dataflow']\n",
    "# Use dict keys to navigate through results:\n",
    "for series in series_list:\n",
    "    if search_term in series['Name']['#text']:\n",
    "        print(f\"{series['Name']['#text']}: {series['KeyFamilyRef']['KeyFamilyID']}\")"
   ]
  },
  {
   "cell_type": "markdown",
   "id": "1dcae079",
   "metadata": {},
   "source": [
    "### To see the structure of the IFS data"
   ]
  },
  {
   "cell_type": "code",
   "execution_count": 2,
   "id": "091520d1",
   "metadata": {},
   "outputs": [
    {
     "name": "stdout",
     "output_type": "stream",
     "text": [
      "Dimension 1: CL_FREQ\n",
      "Dimension 2: CL_AREA_IFS\n",
      "Dimension 3: CL_INDICATOR_IFS\n"
     ]
    }
   ],
   "source": [
    "key = 'DataStructure/IFS'  # Method / series\n",
    "dimension_list = requests.get(f'{url}{key}').json()\\\n",
    "            ['Structure']['KeyFamilies']['KeyFamily']\\\n",
    "            ['Components']['Dimension']\n",
    "for n, dimension in enumerate(dimension_list):\n",
    "    print(f\"Dimension {n+1}: {dimension['@codelist']}\")"
   ]
  },
  {
   "cell_type": "markdown",
   "id": "eaa27768",
   "metadata": {},
   "source": [
    "### To find the key representing the country."
   ]
  },
  {
   "cell_type": "markdown",
   "id": "c5132f65",
   "metadata": {},
   "source": [
    "In this research paper, we attempt to use the data for all of the 10 countries in ASEAN which are Brunei, Cambodia, Indonesia, Laos, Malaysia, Myanmar, the Philippines, Singapore, Thailand and Vietnam."
   ]
  },
  {
   "cell_type": "code",
   "execution_count": 3,
   "id": "a675b854",
   "metadata": {},
   "outputs": [
    {
     "name": "stdout",
     "output_type": "stream",
     "text": [
      "['Brunei', 'Cambodia', 'Indonesia', 'Lao', 'Malaysia', 'Myanmar', 'Philippines', 'Singapore', 'Thailand', 'Viet Nam']\n"
     ]
    }
   ],
   "source": [
    "countries = ['Brunei', 'Cambodia', 'Indonesia', 'Lao', 'Malaysia', \\\n",
    "             'Myanmar', 'Philippines', 'Singapore', 'Thailand', 'Viet Nam']\n",
    "print(countries)"
   ]
  },
  {
   "cell_type": "code",
   "execution_count": 4,
   "id": "e2dab6b4",
   "metadata": {},
   "outputs": [],
   "source": [
    "countries_1 = ['Indonesia', \"Malaysia\", \"Thailand\", 'Singapore']"
   ]
  },
  {
   "cell_type": "code",
   "execution_count": 5,
   "id": "3656aaf3",
   "metadata": {},
   "outputs": [
    {
     "name": "stdout",
     "output_type": "stream",
     "text": [
      "Indonesia: ID\n",
      "Malaysia: MY\n",
      "Thailand: TH\n",
      "Singapore: SG\n"
     ]
    }
   ],
   "source": [
    "country_1_key =[]\n",
    "for j in range(len(countries_1)):\n",
    "    key = f\"CodeList/{dimension_list[1]['@codelist']}\"\n",
    "    search_term_series = countries_1[j]\n",
    "    code_list = requests.get(f'{url}{key}').json()\\\n",
    "    ['Structure']['CodeLists']['CodeList']['Code']\n",
    "    for code in code_list:\n",
    "        if search_term_series in code['Description']['#text']:\n",
    "            country_1_key.append(code['@value'])\n",
    "            print(f\"{code['Description']['#text']}: {code['@value']}\")"
   ]
  },
  {
   "cell_type": "code",
   "execution_count": 6,
   "id": "d59946a9",
   "metadata": {
    "scrolled": true
   },
   "outputs": [
    {
     "data": {
      "text/plain": [
       "['ID', 'MY', 'TH', 'SG']"
      ]
     },
     "execution_count": 6,
     "metadata": {},
     "output_type": "execute_result"
    }
   ],
   "source": [
    "country_1_key"
   ]
  },
  {
   "cell_type": "code",
   "execution_count": 7,
   "id": "3a64cbca",
   "metadata": {},
   "outputs": [
    {
     "name": "stdout",
     "output_type": "stream",
     "text": [
      "Tanzania, United Republic of: TZ\n",
      "United Arab Emirates: AE\n",
      "United Kingdom: GB\n",
      "United States: US\n"
     ]
    }
   ],
   "source": [
    "key = f\"CodeList/{dimension_list[1]['@codelist']}\"\n",
    "search_term_series = 'United'\n",
    "code_list = requests.get(f'{url}{key}').json()\\\n",
    "['Structure']['CodeLists']['CodeList']['Code']\n",
    "for code in code_list:\n",
    "    if search_term_series in code['Description']['#text']:\n",
    "        print(f\"{code['Description']['#text']}: {code['@value']}\")"
   ]
  },
  {
   "cell_type": "markdown",
   "id": "03a5f58f",
   "metadata": {},
   "source": [
    "### To get keys of the series"
   ]
  },
  {
   "cell_type": "code",
   "execution_count": 8,
   "id": "1804cff1",
   "metadata": {},
   "outputs": [
    {
     "name": "stdout",
     "output_type": "stream",
     "text": [
      "Central Bank Survey, Deposits Excluded from Broad Money (Euro Area-Wide-Residency), Euros: FASDSDEA_EUR\n",
      "Central Bank Survey, Securities Other than Shares excl. from Broad Money (Euro Area-Wide-Residency), Euros: FASDSOEA_EUR\n",
      "Depository Corporations Survey, Broad Money Liabilities (Euro Area-Wide-Residency), Euros: FDSBEA_EUR\n",
      "Depository Corporations Survey, Broad Money Liabilities (refers to the Depository Corporations),Seasonally Adjusted, Domestic Currency: FDSB_SA_XDC\n",
      "Depository Corporations Survey, Broad Money Liabilities (refers to the Depository Corporations),Seasonally Adjusted, Euros: FDSB_SA_EUR\n",
      "Depository Corporations Survey, Broad Money Liabilities (refers to the Depository Corporations),Seasonally Adjusted, US Dollars: FDSB_SA_USD\n",
      "Depository Corporations Survey, Broad Money Liabilities, Seasonally Adjusted (Euro Area-Wide-Residency), Euros: FDSBEA_SA_EUR\n",
      "Depository Corporations Survey, Deposits Excluded from Broad Money (Euro Area-Wide-Residency), Euros: FDSDXEA_EUR\n",
      "Depository Corporations Survey, Ratio of Monetary Base to Broad Money, Percent: FDSBR_PT\n",
      "Depository Corporations Survey, Securities Other than Shares excl. from Broad Money (Euro Area-Wide-Residency), Euros: FDSSXEA_EUR\n",
      "Financial, Interest Rates, Money Market, Foreign Currency: FIMM_FX_PA\n",
      "Financial, Interest Rates, Money Market, Maximum, Percent per annum: FIMM_MAX_PA\n",
      "Financial, Interest Rates, Money Market, Minimum, Percent per annum: FIMM_MIN_PA\n",
      "Financial, Interest Rates, Money Market, Percent per annum: FIMM_PA\n",
      "International Liquidity, Monetary, Deposit Money Banks, Assets (Non-Standardized Presentation), US Dollars: _7A_D_USD\n",
      "International Liquidity, Monetary, Deposit Money Banks, Liabilities (Non-Standardized Presentation), US Dollars: _7B_D_USD\n",
      "Monetary Aggregates, Monetary Aggregates, Base Money, Alternate Definition 1, Domestic Currency: FMA_A1_XDC\n",
      "Monetary, Banking Survey and Financial Survey, Money (Non-Standardized Presentation), Domestic Currency: 54____XDC\n",
      "Monetary, Banking Survey and Financial Survey, Quasi-Money (Non-Standardized Presentation), Domestic Currency: 55____XDC\n",
      "Monetary, Banking Survey and Financial Survey, Quasi-Money, Liquid Liabilities (Non-Standardized Presentation), US Dollars: 55L___USD\n",
      "Monetary, Banking Survey and Financial Survey, Securities Other Than Shares, Money Market Instruments (Non-Standardized Presentation), Domestic Currency: 56AA__XDC\n",
      "Monetary, Banking Survey and Financial Survey, Securities Other Than Shares, Money Market Instruments (Non-Standardized Presentation), US Dollars: 56AA__USD\n",
      "Monetary, Base Money, Domestic Currency: FMA_XDC\n",
      "Monetary, Base Money, Euros: FMA_EUR\n",
      "Monetary, Base Money, Seasonally Adjusted, Domestic Currency: FMA_SA_XDC\n",
      "Monetary, Base Money, US Dollars: FMA_USD\n",
      "Monetary, Broad Money, Currency in Circulation Outside Depository Corporations, Domestic Currency: FMBCD_XDC\n",
      "Monetary, Broad Money, Currency in Circulation Outside Depository Corporations, Euros: FMBCD_EUR\n",
      "Monetary, Broad Money, Currency in Circulation Outside Depository Corporations, US Dollars: FMBCD_USD\n",
      "Monetary, Broad Money, Currency Issued by Central Government, Domestic Currency: FMBCC_XDC\n",
      "Monetary, Broad Money, Currency Issued by Central Government, Euros: FMBCC_EUR\n",
      "Monetary, Broad Money, Currency Issued by Central Government, US Dollars: FMBCC_USD\n",
      "Monetary, Broad Money, Deposits in Non-financial Corporations (Including Electronic Money), Domestic Currency: FMBDN_XDC\n",
      "Monetary, Broad Money, Deposits in Non-financial Corporations (Including Electronic Money), Euros: FMBDN_EUR\n",
      "Monetary, Broad Money, Deposits in Non-financial Corporations (Including Electronic Money), US Dollars: FMBDN_USD\n",
      "Monetary, Broad Money, Domestic Currency: FMB_XDC\n",
      "Monetary, Broad Money, Euros: FMB_EUR\n",
      "Monetary, Broad Money, Seasonally Adjusted, Domestic Currency: FMB_SA_XDC\n",
      "Monetary, Broad Money, Seasonally Adjusted, Euros: FMB_SA_EUR\n",
      "Monetary, Broad Money, Seasonally Adjusted, US Dollars: FMB_SA_USD\n",
      "Monetary, Broad Money, Securities Issued by Central Government, Domestic Currency: FMBSC_XDC\n",
      "Monetary, Broad Money, Securities Issued by Central Government, Euros: FMBSC_EUR\n",
      "Monetary, Broad Money, Securities Issued by Central Government, US Dollars: FMBSC_USD\n",
      "Monetary, Broad Money, US Dollars: FMB_USD\n",
      "Monetary, Central Bank Survey, Deposits and Securities other than Shares Excluded from Monetary Base, Deposits Excluded from Broad Money, Domestic Currency: FASDSD_XDC\n",
      "Monetary, Central Bank Survey, Deposits and Securities other than Shares Excluded from Monetary Base, Deposits Excluded from Broad Money, Euros: FASDSD_EUR\n",
      "Monetary, Central Bank Survey, Deposits and Securities other than Shares Excluded from Monetary Base, Deposits Excluded from Broad Money, US Dollars: FASDSD_USD\n",
      "Monetary, Central Bank Survey, Deposits and Securities other than Shares Excluded from Monetary Base, Deposits Included In Broad Money, Domestic Currency: FASDSB_XDC\n",
      "Monetary, Central Bank Survey, Deposits and Securities other than Shares Excluded from Monetary Base, Deposits Included In Broad Money, Euros: FASDSB_EUR\n",
      "Monetary, Central Bank Survey, Deposits and Securities other than Shares Excluded from Monetary Base, Deposits Included In Broad Money, US Dollars: FASDSB_USD\n",
      "Monetary, Central Bank Survey, Deposits and Securities other than Shares Excluded from Monetary Base, Securities other than Shares Excluded from Broad Money, Domestic Currency: FASDSO_XDC\n",
      "Monetary, Central Bank Survey, Deposits and Securities other than Shares Excluded from Monetary Base, Securities other than Shares Excluded from Broad Money, Euros: FASDSO_EUR\n",
      "Monetary, Central Bank Survey, Deposits and Securities other than Shares Excluded from Monetary Base, Securities other than Shares Excluded from Broad Money, US Dollars: FASDSO_USD\n",
      "Monetary, Central Bank Survey, Deposits and Securities other than Shares Excluded from Monetary Base, Securities other than Shares Included In Broad Money, Domestic Currency: FASDSS_XDC\n",
      "Monetary, Central Bank Survey, Deposits and Securities other than Shares Excluded from Monetary Base, Securities other than Shares Included In Broad Money, Euros: FASDSS_EUR\n",
      "Monetary, Central Bank Survey, Deposits and Securities other than Shares Excluded from Monetary Base, Securities other than Shares Included In Broad Money, US Dollars: FASDSS_USD\n",
      "Monetary, Deposit Money Banks, Bonds (Debt Securities) (Non-Standardized Presentation), Domestic Currency: 26N___XDC\n",
      "Monetary, Deposit Money Banks, Central or General Government Deposits, Liabilities to Nonbank Public Financial Institutions (Non-Standardized Presentation), Domestic Currency: 26DG__XDC\n",
      "Monetary, Deposit Money Banks, Central or General Government Deposits, State Government Deposits (Non-Standardized Presentation), Domestic Currency: 26DA__XDC\n",
      "Monetary, Deposit Money Banks, Claims on Central or General Government, Claims on Provincial Governments (Non-Standardized Presentation), Domestic Currency: 22AX__XDC\n",
      "Monetary, Deposit Money Banks, Claims on Central or General Government, Claims on State Government (Non-Standardized Presentation), Domestic Currency: 22AB__XDC\n",
      "Monetary, Deposit Money Banks, Claims on Other Financial Corporations (Non-Standardized Presentation), US Dollars: 22G___USD\n",
      "Monetary, Deposit Money Banks, Claims on Public Non-financial Corporations, Claims on Cooperatives (Non-Standardized Presentation), Domestic Currency: 22CB__XDC\n",
      "Monetary, Deposit Money Banks, Claims on Public Non-financial Corporations, Claims on Nonbank Public Financial Institutions (Non-Standardized Presentation), Domestic Currency: 22CG__XDC\n",
      "Monetary, Deposit Money Banks, Claims on Public Non-financial Corporations, Claims on Public Corporations (Non-Standardized Presentation), Domestic Currency: 22CA__XDC\n",
      "Monetary, Deposit Money Banks, Credit from Central Bank (Non-Standardized Presentation), US Dollars: 26G___USD\n",
      "Monetary, Deposit Money Banks, Liabilities to Other Banking Institutions (Non-Standardized Presentation), Domestic Currency: 26I___XDC\n",
      "Monetary, Deposit Money Banks, Liabilities to Other Financial Corporations (Non-Standardized Presentation), SDRs: 26J___XDR\n",
      "Monetary, Deposit Money Banks, Memorandum Items, Government Deposits at Girodienst (Non-Standardized Presentation), Domestic Currency: 26D_I_XDC\n",
      "Monetary, Deposit Money Banks, Memorandum Items, Postal Debt (Non-Standardized Presentation), Domestic Currency: 26C_I_XDC\n",
      "Monetary, Deposit Money Banks, Memorandum Items, Private Deposits at Treasury (Non-Standardized Presentation), Domestic Currency: 24__R_XDC\n",
      "Monetary, Deposit Money Banks, Memorandum Items, Treasury: Claims on Private Sector (Non-Standardized Presentation), Domestic Currency: 22D_I_XDC\n",
      "Monetary, Deposit Money Banks, Other Items (Net), Valuation Adjustment (Non-Standardized Presentation), Domestic Currency: 27RV__XDC\n",
      "Monetary, Deposit Money Banks, Reserves (Non-Standardized Presentation), US Dollars: 20____USD\n",
      "Monetary, Deposit Money Banks, Reserves, Claims on Central Bank: Securities (Non-Standardized Presentation), US Dollars: 20C___USD\n",
      "Monetary, Deposit Money Banks, Reserves, Other Claims on Central Bank (Non-Standardized Presentation), US Dollars: 20N___USD\n",
      "Monetary, Deposit Money Banks, Restricted Deposits (Non-Standardized Presentation), US Dollars: 26B___USD\n",
      "Monetary, Deposit Money Banks, Securities Other than Shares, Money Market Instruments (Non-Standardized Presentation), Domestic Currency: 26AA__XDC\n",
      "Monetary, Deposit Money Banks, Securities Other than Shares, Money Market Instruments (Non-Standardized Presentation), US Dollars: 26AA__USD\n",
      "Monetary, Deposit Money Banks, Securities Other than Shares, Variations of Bonds: Post Office Savings Certificates (Non-Standardized Presentation), Domestic Currency: 26AB_V1_XDC\n",
      "Monetary, Deposit Money Banks, Variations of Time, Savings, and Foreign Currency Deposits: Central Government Monetary Liabilities (Non-Standardized Presentation), Domestic Currency: 25___V3_XDC\n",
      "Monetary, Deposit Money Banks, Variations of Time, Savings, and Foreign Currency Deposits: Post Office Savings Deposits (Non-Standardized Presentation), Domestic Currency: 25___V2_XDC\n",
      "Monetary, Deposit Money Banks, Variations of Time, Savings, and Foreign Currency Deposits: Time and Savings Deposits (Non-Standardized Presentation), Domestic Currency: 25___V1_XDC\n",
      "Monetary, Depository Corporations Survey, Broad Money Liabilities (refers to the Depository Corporations), Domestic Currency: FDSB_XDC\n",
      "Monetary, Depository Corporations Survey, Broad Money Liabilities (refers to the Depository Corporations), Euros: FDSB_EUR\n",
      "Monetary, Depository Corporations Survey, Broad Money Liabilities (refers to the Depository Corporations), Percentage change, Corresponding period previous year, Percent: FDSB_PC_CP_A_PT\n",
      "Monetary, Depository Corporations Survey, Broad Money Liabilities (refers to the Depository Corporations), US Dollars: FDSB_USD\n",
      "Monetary, Depository Corporations Survey, Broad Money Liabilities, Currency Outside Depository Corporations (refers to the Depository Corporations), Domestic Currency: FDSBC_XDC\n",
      "Monetary, Depository Corporations Survey, Broad Money Liabilities, Currency Outside Depository Corporations (refers to the Depository Corporations), Euros: FDSBC_EUR\n",
      "Monetary, Depository Corporations Survey, Broad Money Liabilities, Currency Outside Depository Corporations (refers to the Depository Corporations), US Dollars: FDSBC_USD\n",
      "Monetary, Depository Corporations Survey, Broad Money Liabilities, Other Deposits (refers to the Depository Corporations), Domestic Currency: FDSBO_XDC\n",
      "Monetary, Depository Corporations Survey, Broad Money Liabilities, Other Deposits (refers to the Depository Corporations), Euros: FDSBO_EUR\n",
      "Monetary, Depository Corporations Survey, Broad Money Liabilities, Other Deposits (refers to the Depository Corporations), US Dollars: FDSBO_USD\n",
      "Monetary, Depository Corporations Survey, Broad Money Liabilities, Securities other than Shares (refers to the Depository Corporations), Domestic Currency: FDSBS_XDC\n",
      "Monetary, Depository Corporations Survey, Broad Money Liabilities, Securities other than Shares (refers to the Depository Corporations), Euros: FDSBS_EUR\n",
      "Monetary, Depository Corporations Survey, Broad Money Liabilities, Securities other than Shares (refers to the Depository Corporations), US Dollars: FDSBS_USD\n",
      "Monetary, Depository Corporations Survey, Broad Money Liabilities, Transferable Deposits (refers to the Depository Corporations), Domestic Currency: FDSBT_XDC\n",
      "Monetary, Depository Corporations Survey, Broad Money Liabilities, Transferable Deposits (refers to the Depository Corporations), Euros: FDSBT_EUR\n",
      "Monetary, Depository Corporations Survey, Broad Money Liabilities, Transferable Deposits (refers to the Depository Corporations), US Dollars: FDSBT_USD\n",
      "Monetary, Depository Corporations Survey, Deposits Excluded from Broad Money (refers to the Depository Corporations), Domestic Currency: FDSDX_XDC\n",
      "Monetary, Depository Corporations Survey, Deposits Excluded from Broad Money (refers to the Depository Corporations), Euros: FDSDX_EUR\n",
      "Monetary, Depository Corporations Survey, Deposits Excluded from Broad Money (refers to the Depository Corporations), US Dollars: FDSDX_USD\n",
      "Monetary, Depository Corporations Survey, Securities other than Shares Excluded from Broad Money (refers to the Depository Corporations), Domestic Currency: FDSSX_XDC\n",
      "Monetary, Depository Corporations Survey, Securities other than Shares Excluded from Broad Money (refers to the Depository Corporations), Euros: FDSSX_EUR\n",
      "Monetary, Depository Corporations Survey, Securities other than Shares Excluded from Broad Money (refers to the Depository Corporations), US Dollars: FDSSX_USD\n",
      "Monetary, Liquidity of Money, Alternate Definition 1, Domestic Currency: FML_A1_XDC\n",
      "Monetary, Liquidity of Money, Alternate Definition 1, Seasonally Adjusted, Domestic Currency: FML_A1_SA_XDC\n",
      "Monetary, Liquidity of Money, Seasonally Adjusted, Domestic Currency: FML_SA_XDC\n",
      "Monetary, Liquidity of Money, Seasonally Adjusted, US Dollars: FML_SA_USD\n",
      "Monetary, Liquidity of Money, US Dollars: FML_USD\n",
      "Monetary, M5, Broad Money, Alternate Definition 1, Seasonally Adjusted, Domestic Currency: FM5B_A1_SA_XDC\n",
      "Monetary, M5, Broad Money, Domestic Currency: FM5B_XDC\n",
      "Monetary, M5, Broad Money, US Dollars: FM5B_USD\n",
      "Monetary, Depository Corporations, Income Velocity of Broad Money, Index: FMVB_IX\n",
      "Monetary, Monetary Authorities, Claims on Deposit Money Banks (Non-Standardized Presentation), Domestic Currency: 12E___XDC\n",
      "Monetary, Monetary Authorities, Claims on Deposit Money Banks (Non-Standardized Presentation), Euros: 12E___EUR\n",
      "Monetary, Monetary Authorities, Reserve Money (Non-Standardized Presentation), Domestic Currency: 14____XDC\n",
      "Monetary, Monetary Authorities, Reserve Money (Non-Standardized Presentation), US Dollars: 14____USD\n",
      "Monetary, Monetary Authorities, Reserve Money, Bankers Deposits (Non-Standardized Presentation), Domestic Currency: 14C___XDC\n",
      "Monetary, Monetary Authorities, Reserve Money, Bankers Deposits (Non-Standardized Presentation), US Dollars: 14C___USD\n",
      "Monetary, Monetary Authorities, Reserve Money, Bankers Deposits, Foreign Currency Deposits (Non-Standardized Presentation), Domestic Currency: 14CF__XDC\n",
      "Monetary, Monetary Authorities, Reserve Money, of which: Currency Outside Banking Institutions (Non-Standardized Presentation), Domestic Currency: 14A___XDC\n",
      "Monetary, Monetary Authorities, Reserve Money, of which: Currency Outside Other Depository Corporations (Non-Standardized Presentation), US Dollars: 14A___USD\n",
      "Monetary, Monetary Authorities, Reserve Money, Other Liabilities to Other Depository Corporations (Non-Standardized Presentation), US Dollars: 14N___USD\n",
      "Monetary, Monetary Authorities, Reserve Money, Private Sector Deposits (Non-Standardized Presentation), Domestic Currency: 14D___XDC\n",
      "Monetary, Monetary Authorities, Reserve Money, Private Sector Deposits (Non-Standardized Presentation), US Dollars: 14D___USD\n",
      "Monetary, Monetary Survey, Money (Non-Standardized Presentation), Domestic Currency: 34____XDC\n",
      "Monetary, Monetary Survey, Money (Non-Standardized Presentation), Euros: 34____EUR\n",
      "Monetary, Monetary Survey, Money (Non-Standardized Presentation), Seasonally Adjusted, Domestic Currency: 34____SA_XDC\n",
      "Monetary, Monetary Survey, Money (Non-Standardized Presentation), Seasonally Adjusted, US Dollars: 34____SA_USD\n",
      "Monetary, Monetary Survey, Money (Non-Standardized Presentation), US Dollars: 34____USD\n",
      "Monetary, Monetary Survey, Money Market Fund Shares (Non-Standardized Presentation), Domestic Currency: 36M___XDC\n",
      "Monetary, Monetary Survey, Money plus Quasi-Money (Non-Standardized Presentation), Domestic Currency: 35L___XDC\n",
      "Monetary, Monetary Survey, Money plus Quasi-Money (Non-Standardized Presentation), Euros: 35L___EUR\n",
      "Monetary, Monetary Survey, Money plus Quasi-Money (Non-Standardized Presentation), US Dollars: 35L___USD\n",
      "Monetary, Monetary Survey, Money, Currency Issued (Non-Standardized Presentation), Domestic Currency: 34A___XDC\n",
      "Monetary, Monetary Survey, Money, Demand Deposits (Non-Standardized Presentation), Domestic Currency: 34B_N_XDC\n",
      "Monetary, Monetary Survey, Quasi-Money (Non-Standardized Presentation), Domestic Currency: 35____XDC\n",
      "Monetary, Monetary Survey, Quasi-Money (Non-Standardized Presentation), Euros: 35____EUR\n",
      "Monetary, Monetary Survey, Quasi-Money (Non-Standardized Presentation), US Dollars: 35____USD\n",
      "Monetary, Monetary Survey, Quasi-Money, Excluding Foreign Currency Deposits (Non-Standardized Presentation), Domestic Currency: 35B___XDC\n",
      "Monetary, Monetary Survey, Quasi-Money, Including Foreign Currency Deposits (Non-Standardized Presentation), Domestic Currency: 35X___XDC\n",
      "Monetary, Monetary Survey, Quasi-Money, Money plus Quasi-Money (Non-Standardized Presentation), Percentage change, corresponding period previous year, Percent: 35L___PC_CP_A_PT\n",
      "Monetary, Monetary Survey, Quasi-Money, Money plus Quasi-Money, Seasonally Adjusted (Non-Standardized Presentation), Domestic Currency: 35L___SA_XDC\n",
      "Monetary, Monetary Survey, Quasi-Money, Other Deposits (Non-Standardized Presentation), Domestic Currency: 35__N_XDC\n",
      "Monetary, Monetary Survey, Securities Other than Shares, Money Market Instruments (Non-Standardized Presentation), Domestic Currency: 36AA__XDC\n",
      "Monetary, Monetary Survey, Securities Other Than Shares, Money Market Instruments (Non-Standardized Presentation), US Dollars: 36AA__USD\n",
      "Monetary, Nonbank Financial Institutions, Claims on Deposit Money Banks (Non-Standardized Presentation), Domestic Currency: 42E___XDC\n",
      "Monetary, Nonbank Financial Institutions, Securities Other Than Shares, Money Market Instruments (Non-Standardized Presentation), Domestic Currency: 46AA__XDC\n",
      "Monetary, Other Banking Institutions and Nonbank Institutions, Securities Other Than Shares, Variations of Money Market Instruments: Credit Market Instruments (Non-Standardized Presentation), Domestic Currency: 46AA_V1_XDC\n",
      "Monetary, Other Depository Corporations Survey, Deposits Excluded from Broad Money, Domestic Currency: FOSDX_XDC\n",
      "Monetary, Other Depository Corporations Survey, Deposits Excluded from Broad Money, Euros: FOSDX_EUR\n",
      "Monetary, Other Depository Corporations Survey, Deposits Excluded from Broad Money, US Dollars: FOSDX_USD\n",
      "Monetary, Other Depository Corporations Survey, Other Deposits Included In Broad Money, Domestic Currency: FOSD_XDC\n",
      "Monetary, Other Depository Corporations Survey, Other Deposits Included In Broad Money, Euros: FOSD_EUR\n",
      "Monetary, Other Depository Corporations Survey, Other Deposits Included In Broad Money, US Dollars: FOSD_USD\n",
      "Monetary, Other Depository Corporations Survey, Securities other than Shares Excluded from Broad Money, Domestic Currency: FOSSX_XDC\n",
      "Monetary, Other Depository Corporations Survey, Securities other than Shares Excluded from Broad Money, Euros: FOSSX_EUR\n",
      "Monetary, Other Depository Corporations Survey, Securities other than Shares Excluded from Broad Money, US Dollars: FOSSX_USD\n",
      "Monetary, Other Depository Corporations Survey, Securities other than Shares Included In Broad Money, Domestic Currency: FOSS_XDC\n",
      "Monetary, Other Depository Corporations Survey, Securities other than Shares Included In Broad Money, Euros: FOSS_EUR\n",
      "Monetary, Other Depository Corporations Survey, Securities other than Shares Included In Broad Money, US Dollars: FOSS_USD\n",
      "Monetary, Other Depository Corporations Survey, Transferable Deposits Included In Broad Money, Domestic Currency: FOST_XDC\n",
      "Monetary, Other Depository Corporations Survey, Transferable Deposits Included In Broad Money, Euros: FOST_EUR\n",
      "Monetary, Other Depository Corporations Survey, Transferable Deposits Included In Broad Money, US Dollars: FOST_USD\n",
      "Other Depository Corporations Survey, Deposits Excluded from Broad Money (Euro Area-Wide-Residency), Euros: FOSDXEA_EUR\n",
      "Other Depository Corporations Survey, Securities Other than Shares excl. from Broad Money (Euro Area-Wide-Residency), Euros: FOSSXEA_EUR\n"
     ]
    }
   ],
   "source": [
    "key = f\"CodeList/{dimension_list[2]['@codelist']}\"\n",
    "search_term_series = 'Money'\n",
    "code_list = requests.get(f'{url}{key}').json()\\\n",
    "\t    ['Structure']['CodeLists']['CodeList']['Code']\n",
    "for code in code_list:\n",
    "    if search_term_series in code['Description']['#text']:\n",
    "        print(f\"{code['Description']['#text']}: {code['@value']}\")"
   ]
  },
  {
   "cell_type": "markdown",
   "id": "647f5325",
   "metadata": {},
   "source": [
    "#### Real GDP\n",
    "- Gross Domestic Product, Real, Seasonally Adjusted, Domestic Currency: NGDP_R_SA_XDC\n",
    "\n",
    "#### Industrial Production Index\n",
    "- Economic Activity, Industrial Production, Index: AIP_IX\n",
    "\n",
    "#### Exchange Rate\n",
    "- Exchange Rates, Domestic Currency per U.S. Dollar, End of Period, Rate: ENDE_XDC_USD_RATE\n",
    "- Exchange Rates, Domestic Currency per U.S. Dollar, Period Average, Rate: ENDA_XDC_USD_RATE\n",
    "- Exchange Rates, Real Effective Exchange Rate based on Consumer Price Index, Index: EREER_IX\n",
    "\n",
    "#### International Reserve\n",
    "- International Reserves, Official Reserve Assets, US Dollars: RAFA_USD\n",
    "\n",
    "#### Price Index\n",
    "- Prices, Consumer Price Index, All items, Index: PCPI_IX\n",
    "\n",
    "#### Interest Rate\n",
    "- Financial, Interest Rates, Government Securities, Government Bonds, Percent per annum: FIGB_PA\n",
    "- Financial, Interest Rates, Money Market, Percent per annum: FIMM_PA\n",
    "\n",
    "#### REER\n",
    "- Exchange Rates, Real Effective Exchange Rate based on Consumer Price Index, Index: EREER_IX\n",
    "\n",
    "#### Money Supply\n",
    "- Monetary, Liquidity of Money, Alternate Definition 1, Seasonally Adjusted, Domestic Currency: FML_A1_SA_XDC\n",
    "- Monetary, Broad Money, Domestic Currency: FMB_XDC\n",
    "- Monetary, Base Money, Domestic Currency: FMA_XDC\n",
    "- Monetary, Base Money, US Dollars: FMA_USD"
   ]
  },
  {
   "cell_type": "markdown",
   "id": "c3e8178c",
   "metadata": {},
   "source": [
    "### Check if the series are available for all countries in question"
   ]
  },
  {
   "cell_type": "code",
   "execution_count": null,
   "id": "9f71fb5e",
   "metadata": {},
   "outputs": [],
   "source": [
    "country_1_key"
   ]
  },
  {
   "cell_type": "code",
   "execution_count": null,
   "id": "7f963a21",
   "metadata": {},
   "outputs": [],
   "source": [
    "series_fundamental = ['FMB_XDC', 'PCPI_IX', 'ENDE_XDC_USD_RATE', 'FIMM_PA']"
   ]
  },
  {
   "cell_type": "code",
   "execution_count": null,
   "id": "7cadd396",
   "metadata": {},
   "outputs": [],
   "source": [
    "import requests\n",
    "\n",
    "url = 'http://dataservices.imf.org/REST/SDMX_JSON.svc/'\n",
    "key = 'CompactData/IFS/M.ID.FIMM_PA' # adjust codes here\n",
    "data = (requests.get(f'{url}{key}').json()['CompactData']['DataSet']['Series'])\n",
    "print(data['Obs'][-3:-1]) # Print latest observation"
   ]
  },
  {
   "cell_type": "code",
   "execution_count": null,
   "id": "16a01355",
   "metadata": {},
   "outputs": [],
   "source": [
    "for j in range(len(country_1_key)):\n",
    "    main = 'CompactData/IFS/'\n",
    "    feq = 'M.'\n",
    "    country = country_1_key[j]\n",
    "    for k in range(len(series_fundamental)):\n",
    "        series = '.'+series_fundamental[k]\n",
    "        key = main+feq+country+series\n",
    "        print(key)"
   ]
  },
  {
   "cell_type": "code",
   "execution_count": null,
   "id": "d74339f3",
   "metadata": {},
   "outputs": [],
   "source": [
    "import requests\n",
    "\n",
    "for j in range(len(country_1_key)):\n",
    "    main = 'CompactData/IFS/'\n",
    "    feq = 'M.'\n",
    "    country = country_1_key[j]\n",
    "    for k in range(len(series_fundamental)):\n",
    "        series = '.'+series_fundamental[k]\n",
    "        key = main+feq+country+series\n",
    "        try:\n",
    "            url = 'http://dataservices.imf.org/REST/SDMX_JSON.svc/'\n",
    "            data = (requests.get(f'{url}{key}').json()['CompactData']['DataSet']['Series'])\n",
    "            print(f\"Country: {country_1_key[j]}, Indicator: {series_fundamental[k]}\\\n",
    "            {data['Obs'][-1]}\") # Print latest observation\n",
    "        except KeyError:\n",
    "            print(f\"!!! Country: {country_1_key[j]}, Indicator: {series_fundamental[k]} does not exist in the database. !!!\")"
   ]
  },
  {
   "cell_type": "code",
   "execution_count": null,
   "id": "5145a70f",
   "metadata": {},
   "outputs": [],
   "source": [
    "#The industrial production index for Thailand and Indonesia do not exist in the database."
   ]
  },
  {
   "cell_type": "markdown",
   "id": "878f5bdb",
   "metadata": {},
   "source": [
    "### Download the data to the DataFrame: Malaysia\n",
    "We, first, download the data just only for Malaysia since\n",
    "- The connection error arises very easily.\n",
    "- Malaysia has the industrial production series unlike others"
   ]
  },
  {
   "cell_type": "code",
   "execution_count": null,
   "id": "f2f89ee1",
   "metadata": {},
   "outputs": [],
   "source": [
    "import requests\n",
    "import pandas as pd\n",
    "\n",
    "data_my = pd.DataFrame()\n",
    "main = 'CompactData/IFS/'\n",
    "feq = 'M.'\n",
    "\n",
    "country = 'MY' #Malaysia\n",
    "for k in range(len(series_fundamental)):\n",
    "    series = '.'+series_fundamental[k]\n",
    "    key = main+feq+country+series\n",
    "    try:\n",
    "        url = 'http://dataservices.imf.org/REST/SDMX_JSON.svc/'\n",
    "        data = (requests.get(f'{url}{key}').json()['CompactData']['DataSet']['Series'])\n",
    "        data_list =  [[obs.get('@TIME_PERIOD'), obs.get('@OBS_VALUE')] for obs in data['Obs']]\n",
    "        temp_pd = pd.DataFrame(data_list, columns=['date', 'MY_'+series_fundamental[k]])\n",
    "        temp_pd = temp_pd.set_index(pd.to_datetime(temp_pd['date']))['MY_'+series_fundamental[k]].astype('float')\n",
    "        data_my['MY_'+series_fundamental[k]] = temp_pd\n",
    "    except KeyError:\n",
    "        print(f\"!!! Country: MY , Indicator: {series_fundamental[k]} does not exist in the database. !!!\")"
   ]
  },
  {
   "cell_type": "code",
   "execution_count": null,
   "id": "fd2bebca",
   "metadata": {},
   "outputs": [],
   "source": [
    "data_my"
   ]
  },
  {
   "cell_type": "code",
   "execution_count": null,
   "id": "c2dad8dd",
   "metadata": {
    "scrolled": true
   },
   "outputs": [],
   "source": [
    "data_my[:-40]"
   ]
  },
  {
   "cell_type": "code",
   "execution_count": null,
   "id": "bc7d5164",
   "metadata": {},
   "outputs": [],
   "source": [
    "data_my['MY_ENDE_XDC_USD_RATE'].plot()"
   ]
  },
  {
   "cell_type": "markdown",
   "id": "c54de4e0",
   "metadata": {},
   "source": [
    "### Download the data to the DataFrame: US"
   ]
  },
  {
   "cell_type": "code",
   "execution_count": null,
   "id": "ce202fc1",
   "metadata": {},
   "outputs": [],
   "source": [
    "series_fundamental_US = ['PCPI_IX', 'AIP_IX', 'FIMM_PA']"
   ]
  },
  {
   "cell_type": "code",
   "execution_count": null,
   "id": "0237fe9f",
   "metadata": {},
   "outputs": [],
   "source": [
    "import requests\n",
    "\n",
    "\n",
    "main = 'CompactData/IFS/'\n",
    "feq = 'M.'\n",
    "country = 'US'\n",
    "for k in range(len(series_fundamental_US)):\n",
    "    series = '.'+series_fundamental_US[k]\n",
    "    key = main+feq+country+series\n",
    "    try:\n",
    "        url = 'http://dataservices.imf.org/REST/SDMX_JSON.svc/'\n",
    "        data = (requests.get(f'{url}{key}').json()['CompactData']['DataSet']['Series'])\n",
    "        print(f\"Country: US, Indicator: {series_fundamental_US[k]}\\\n",
    "        {data['Obs'][-1]}\") # Print latest observation\n",
    "    except KeyError:\n",
    "        print(f\"!!! Country: US, Indicator: {series_fundamental_US[k]} does not exist in the database. !!!\")"
   ]
  },
  {
   "cell_type": "code",
   "execution_count": null,
   "id": "ee2d6ac4",
   "metadata": {},
   "outputs": [],
   "source": [
    "import requests\n",
    "import pandas as pd\n",
    "\n",
    "data_us = pd.DataFrame()\n",
    "main = 'CompactData/IFS/'\n",
    "feq = 'M.'\n",
    "country = 'US' #US\n",
    "for k in range(len(series_fundamental_US)):\n",
    "    series = '.'+series_fundamental_US[k]\n",
    "    key = main+feq+country+series\n",
    "    try:\n",
    "        url = 'http://dataservices.imf.org/REST/SDMX_JSON.svc/'\n",
    "        data = (requests.get(f'{url}{key}').json()['CompactData']['DataSet']['Series'])\n",
    "        data_list =  [[obs.get('@TIME_PERIOD'), obs.get('@OBS_VALUE')] for obs in data['Obs']]\n",
    "        temp_pd = pd.DataFrame(data_list, columns=['date', 'US_'+series_fundamental_US[k]])\n",
    "        temp_pd = temp_pd.set_index(pd.to_datetime(temp_pd['date']))['US_'+series_fundamental_US[k]].astype('float')\n",
    "        data_us['US_'+series_fundamental_US[k]] = temp_pd\n",
    "    except KeyError:\n",
    "        print(f\"!!! Country: US , Indicator: {series_fundamental_US[k]} does not exist in the database. !!!\")"
   ]
  },
  {
   "cell_type": "code",
   "execution_count": null,
   "id": "886456f2",
   "metadata": {},
   "outputs": [],
   "source": [
    "data_us"
   ]
  },
  {
   "cell_type": "markdown",
   "id": "f936d88e",
   "metadata": {},
   "source": [
    "### Download the data to the DataFrame: Indonesia"
   ]
  },
  {
   "cell_type": "code",
   "execution_count": 11,
   "id": "b5644e1e",
   "metadata": {},
   "outputs": [],
   "source": [
    "series_fundamental_id = ['PCPI_IX', 'ENDE_XDC_USD_RATE','FIMM_PA']"
   ]
  },
  {
   "cell_type": "code",
   "execution_count": 12,
   "id": "6808ed63",
   "metadata": {},
   "outputs": [],
   "source": [
    "import requests\n",
    "import pandas as pd\n",
    "\n",
    "data_id = pd.DataFrame()\n",
    "main = 'CompactData/IFS/'\n",
    "feq = 'M.'\n",
    "\n",
    "country = 'ID' #Indonesia\n",
    "for k in range(len(series_fundamental_id)):\n",
    "    series = '.'+series_fundamental_id[k]\n",
    "    key = main+feq+country+series\n",
    "    try:\n",
    "        url = 'http://dataservices.imf.org/REST/SDMX_JSON.svc/'\n",
    "        data = (requests.get(f'{url}{key}').json()['CompactData']['DataSet']['Series'])\n",
    "        data_list =  [[obs.get('@TIME_PERIOD'), obs.get('@OBS_VALUE')] for obs in data['Obs']]\n",
    "        temp_pd = pd.DataFrame(data_list, columns=['date', 'ID_'+series_fundamental_id[k]])\n",
    "        temp_pd = temp_pd.set_index(pd.to_datetime(temp_pd['date']))['ID_'+series_fundamental_id[k]].astype('float')\n",
    "        data_id['ID_'+series_fundamental_id[k]] = temp_pd\n",
    "    except KeyError:\n",
    "        print(f\"!!! Country: ID , Indicator: {series_fundamental_id[k]} does not exist in the database. !!!\")"
   ]
  },
  {
   "cell_type": "markdown",
   "id": "a55b98ca",
   "metadata": {},
   "source": [
    "### Download the data to the DataFrame: Thailand"
   ]
  },
  {
   "cell_type": "code",
   "execution_count": null,
   "id": "b2c26875",
   "metadata": {},
   "outputs": [],
   "source": [
    "import requests\n",
    "import pandas as pd\n",
    "\n",
    "data_th = pd.DataFrame()\n",
    "main = 'CompactData/IFS/'\n",
    "feq = 'M.'\n",
    "\n",
    "country = 'TH' #Thailand\n",
    "for k in range(len(series_fundamental_id)):\n",
    "    series = '.'+series_fundamental_id[k]\n",
    "    key = main+feq+country+series\n",
    "    try:\n",
    "        url = 'http://dataservices.imf.org/REST/SDMX_JSON.svc/'\n",
    "        data = (requests.get(f'{url}{key}').json()['CompactData']['DataSet']['Series'])\n",
    "        data_list =  [[obs.get('@TIME_PERIOD'), obs.get('@OBS_VALUE')] for obs in data['Obs']]\n",
    "        temp_pd = pd.DataFrame(data_list, columns=['date', 'TH_'+series_fundamental_id[k]])\n",
    "        temp_pd = temp_pd.set_index(pd.to_datetime(temp_pd['date']))['TH_'+series_fundamental_id[k]].astype('float')\n",
    "        data_th['TH_'+series_fundamental_id[k]] = temp_pd\n",
    "    except KeyError:\n",
    "        print(f\"!!! Country: TH , Indicator: {series_fundamental_id[k]} does not exist in the database. !!!\")"
   ]
  },
  {
   "cell_type": "code",
   "execution_count": null,
   "id": "1d148281",
   "metadata": {},
   "outputs": [],
   "source": [
    "data_th.to_excel('Data_th.xlsx')"
   ]
  },
  {
   "cell_type": "markdown",
   "id": "f98b6a2d",
   "metadata": {},
   "source": [
    "### Download the data to the DataFrame: Singapore"
   ]
  },
  {
   "cell_type": "code",
   "execution_count": null,
   "id": "09d23ed1",
   "metadata": {},
   "outputs": [],
   "source": [
    "series_fundamental"
   ]
  },
  {
   "cell_type": "code",
   "execution_count": null,
   "id": "d7917709",
   "metadata": {},
   "outputs": [],
   "source": [
    "series_fundamental_2 = ['PCPI_IX', 'ENDE_XDC_USD_RATE', 'FIMM_PA']"
   ]
  },
  {
   "cell_type": "code",
   "execution_count": null,
   "id": "bd2b7e75",
   "metadata": {},
   "outputs": [],
   "source": [
    "import requests\n",
    "import pandas as pd\n",
    "\n",
    "data_sg = pd.DataFrame()\n",
    "main = 'CompactData/IFS/'\n",
    "feq = 'M.'\n",
    "\n",
    "country = 'SG' #Singapore\n",
    "for k in range(len(series_fundamental_2)):\n",
    "    series = '.'+series_fundamental_2[k]\n",
    "    key = main+feq+country+series\n",
    "    try:\n",
    "        url = 'http://dataservices.imf.org/REST/SDMX_JSON.svc/'\n",
    "        data = (requests.get(f'{url}{key}').json()['CompactData']['DataSet']['Series'])\n",
    "        data_list =  [[obs.get('@TIME_PERIOD'), obs.get('@OBS_VALUE')] for obs in data['Obs']]\n",
    "        temp_pd = pd.DataFrame(data_list, columns=['date', 'SG_'+series_fundamental_2[k]])\n",
    "        temp_pd = temp_pd.set_index(pd.to_datetime(temp_pd['date']))['SG_'+series_fundamental_2[k]].astype('float')\n",
    "        data_sg['SG_'+series_fundamental_2[k]] = temp_pd\n",
    "    except KeyError:\n",
    "        print(f\"!!! Country: SG , Indicator: {series_fundamental_2[k]} does not exist in the database. !!!\")"
   ]
  },
  {
   "cell_type": "code",
   "execution_count": null,
   "id": "ddf717e3",
   "metadata": {},
   "outputs": [],
   "source": [
    "data_sg"
   ]
  },
  {
   "cell_type": "code",
   "execution_count": null,
   "id": "41cdfda6",
   "metadata": {
    "scrolled": true
   },
   "outputs": [],
   "source": [
    "data_sg['SG_FIMM_PA'].plot()"
   ]
  },
  {
   "cell_type": "code",
   "execution_count": null,
   "id": "a5954ee1",
   "metadata": {},
   "outputs": [],
   "source": [
    "data_sg['SG_ENDE_XDC_USD_RATE'].plot()"
   ]
  },
  {
   "cell_type": "code",
   "execution_count": null,
   "id": "1b13e66a",
   "metadata": {},
   "outputs": [],
   "source": [
    "data_sg"
   ]
  },
  {
   "cell_type": "markdown",
   "id": "1a06b784",
   "metadata": {},
   "source": [
    "### Join some dataframe together"
   ]
  },
  {
   "cell_type": "code",
   "execution_count": null,
   "id": "90c9aa5e",
   "metadata": {},
   "outputs": [],
   "source": [
    "#Exclude Indonesia\n",
    "data_ex_id = pd.concat([data_my, data_th, data_sg, data_us], axis = 1, join = 'inner')\n",
    "data_ex_id.dropna(inplace = True)"
   ]
  },
  {
   "cell_type": "code",
   "execution_count": null,
   "id": "a3717846",
   "metadata": {
    "scrolled": true
   },
   "outputs": [],
   "source": [
    "data_ex_id"
   ]
  },
  {
   "cell_type": "code",
   "execution_count": null,
   "id": "f5990925",
   "metadata": {},
   "outputs": [],
   "source": [
    "#Join all data\n",
    "data_all = pd.concat([data_my, data_id, data_th, data_sg, data_us], axis = 1, join = 'inner')\n",
    "data_all.dropna(inplace = True)"
   ]
  },
  {
   "cell_type": "code",
   "execution_count": null,
   "id": "b258175b",
   "metadata": {},
   "outputs": [],
   "source": [
    "data_all"
   ]
  },
  {
   "cell_type": "markdown",
   "id": "7d7745e9",
   "metadata": {},
   "source": [
    "with pd.ExcelWriter('EE400_Data_13122022.xlsx') as writer:\n",
    "    data_my.to_excel(writer, sheet_name = 'MY')\n",
    "    data_id.to_excel(writer, sheet_name = 'ID')\n",
    "    data_sg.to_excel(writer, sheet_name = 'SG')\n",
    "    data_th.to_excel(writer, sheet_name = 'TH')\n",
    "    data_us.to_excel(writer, sheet_name = 'US')\n",
    "    data_ex_id.to_excel(writer, sheet_name = 'All_ex_ID')\n",
    "    data_all.to_excel(writer, sheet_name = 'All')"
   ]
  },
  {
   "cell_type": "code",
   "execution_count": null,
   "id": "a07bacc6",
   "metadata": {
    "scrolled": true
   },
   "outputs": [],
   "source": [
    "data_my['MY_ENDE_XDC_USD_RATE'].iloc[0:50]"
   ]
  },
  {
   "cell_type": "code",
   "execution_count": null,
   "id": "877197bf",
   "metadata": {},
   "outputs": [],
   "source": [
    "data_all.index[79]"
   ]
  },
  {
   "cell_type": "code",
   "execution_count": null,
   "id": "69e3549f",
   "metadata": {
    "scrolled": true
   },
   "outputs": [],
   "source": [
    "data_all.iloc[79:-4,]"
   ]
  },
  {
   "cell_type": "code",
   "execution_count": null,
   "id": "64f95bdc",
   "metadata": {},
   "outputs": [],
   "source": [
    "data_all.iloc[79:-4,]"
   ]
  }
 ],
 "metadata": {
  "kernelspec": {
   "display_name": "Python 3 (ipykernel)",
   "language": "python",
   "name": "python3"
  },
  "language_info": {
   "codemirror_mode": {
    "name": "ipython",
    "version": 3
   },
   "file_extension": ".py",
   "mimetype": "text/x-python",
   "name": "python",
   "nbconvert_exporter": "python",
   "pygments_lexer": "ipython3",
   "version": "3.9.13"
  }
 },
 "nbformat": 4,
 "nbformat_minor": 5
}
