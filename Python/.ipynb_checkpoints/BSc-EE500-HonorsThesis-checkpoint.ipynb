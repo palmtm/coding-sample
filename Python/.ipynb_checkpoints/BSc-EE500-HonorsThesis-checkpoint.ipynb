{
 "cells": [
  {
   "cell_type": "markdown",
   "id": "36f6ab55",
   "metadata": {},
   "source": [
    "This book contains Python code used in EE500 Senior Honors Thesis at Bachelor of Economics, Thammasat University, Thailand. \n",
    "\n",
    "$\\textbf{Project name}: \\textit{\"Out-of-sample exchange rate predictability of selected countries in ASEAN\"}$\n",
    "\n",
    "$\\textbf{Authors}$: Thanakrit Methasate\n",
    "\n",
    "The outline of the book is as follows:\n",
    "\n",
    "# Table of Contents:\n",
    "* [Import libraries](#import-lib)\n",
    "* [Import the dataset](#import-dataset)\n",
    "* [Generate the variables](#generate-variables)\n",
    "  * [Output gap](#generate-variables-outputgap)\n",
    "  * [Other variables](#generate-varaibles-other)\n",
    "  * [Plot some data](#plot-data)\n",
    "* [Generate fundamentals](#generate-fund)\n",
    "* [Taylor Rule and Interest Rate Differential](#tr-intdiff)\n",
    "* [Set up, Run the model, Calculate U-Statistics](#main)\n",
    "  * [Constructing the Dataframe containing the U-statisitics](#u-latex)\n",
    "* [Vary the Discounted Factor for the Coefficients](#vary-discount-factor)"
   ]
  },
  {
   "cell_type": "markdown",
   "id": "9d35acbf",
   "metadata": {},
   "source": [
    "# Import libraries <a class=\"anchor\" id=\"import-lib\"></a>"
   ]
  },
  {
   "cell_type": "code",
   "execution_count": null,
   "id": "e4a6eec1",
   "metadata": {},
   "outputs": [],
   "source": [
    "import matplotlib.pyplot as plt\n",
    "import numpy as np\n",
    "import pandas as pd\n",
    "import statsmodels.api as sm\n",
    "from sklearn.metrics import mean_squared_error\n",
    "import scipy\n",
    "from scipy.stats import skew\n",
    "from scipy.stats import kurtosis\n",
    "import math\n",
    "\n",
    "from pybats.analysis import* \n",
    "from pybats.point_forecast import*\n",
    "from pybats.plot import*\n",
    "\n",
    "import os"
   ]
  },
  {
   "cell_type": "code",
   "execution_count": null,
   "id": "9c45bc0a",
   "metadata": {},
   "outputs": [],
   "source": [
    "#Set up the path\n",
    "#path ='path-to-call'\n",
    "#os.chdir(path)"
   ]
  },
  {
   "cell_type": "markdown",
   "id": "7f76f9ec",
   "metadata": {},
   "source": [
    "# Import the dataset <a name=\"import-dataset\"></a>"
   ]
  },
  {
   "cell_type": "code",
   "execution_count": null,
   "id": "53d6e90d",
   "metadata": {},
   "outputs": [],
   "source": [
    "#Import all the data\n",
    "df_th = pd.read_excel('BSc-EE500-Data.xlsx',sheet_name='TH_US',index_col='date_index')\n",
    "df_my = pd.read_excel('BSc-EE500-Data.xlsx',sheet_name='MY_US_dropna',index_col='date_index')\n",
    "df_sg = pd.read_excel('BSc-EE500-Data.xlsx',sheet_name='SG_US',index_col='date_index')\n",
    "df_id = pd.read_excel('BSc-EE500-Data.xlsx',sheet_name='ID_US',index_col='date_index')\n",
    "\n",
    "#List of the country codes\n",
    "country_list = ['TH','MY','SG','ID']\n",
    "\n",
    "#Create the list of all dataframe\n",
    "all_df = {'TH':{'data':df_th}, 'MY':{'data':df_my}, 'SG':{'data':df_sg}, 'ID':{'data':df_id}}\n",
    "\n",
    "#Drop some irrelevant columns\n",
    "for country in country_list:\n",
    "    all_df[country]['data'].drop(columns = ['date','Unnamed: 1','Unnamed: 2'],axis=1,inplace=True)\n",
    "    all_df[country]['data'].index = pd.to_datetime(all_df[country]['data'].index,format='%YM%m')"
   ]
  },
  {
   "cell_type": "markdown",
   "id": "7bde4469",
   "metadata": {},
   "source": [
    "# Generate the variables <a name=\"generate-variables\"></a>"
   ]
  },
  {
   "cell_type": "markdown",
   "id": "4603d063",
   "metadata": {},
   "source": [
    "## Output Gap <a name = 'generate-variables-outputgap'></a>\n",
    "- Linear Trend\n",
    "- Quadratic Trend\n",
    "- Hodrick and Prescott Filter"
   ]
  },
  {
   "cell_type": "code",
   "execution_count": null,
   "id": "b8b93844",
   "metadata": {},
   "outputs": [],
   "source": [
    "for country in country_list:\n",
    "    #Linear Trend\n",
    "    all_df[country]['data']['Time'] = range(1,len(all_df[country]['data'])+1)\n",
    "    model = sm.OLS(all_df[country]['data']['y'], sm.add_constant(all_df[country]['data']['Time']))\n",
    "    model_us = sm.OLS(all_df[country]['data']['y_us'], sm.add_constant(all_df[country]['data']['Time']))\n",
    "    results = model.fit()\n",
    "    results_us = model_us.fit()\n",
    "    fitted_values = results.fittedvalues\n",
    "    fitted_values_us = results_us.fittedvalues\n",
    "    all_df[country]['data']['y_bar_linear'] = all_df[country]['data']['y']-fitted_values\n",
    "    all_df[country]['data']['y_bar_linear_us'] = all_df[country]['data']['y_us'] - fitted_values_us\n",
    "    \n",
    "    #Quadratic Trend\n",
    "    all_df[country]['data']['Time^2'] = all_df[country]['data']['Time']**2\n",
    "    model_quad = sm.OLS(all_df[country]['data']['y'], sm.add_constant(all_df[country]['data'][['Time','Time^2']]))\n",
    "    model_us_quad = sm.OLS(all_df[country]['data']['y_us'], sm.add_constant(all_df[country]['data'][['Time','Time^2']]))\n",
    "    results_quad = model_quad.fit()\n",
    "    results_us_quad = model_us_quad.fit()\n",
    "    fitted_values_quad = results_quad.fittedvalues\n",
    "    fitted_values_us_quad = results_us_quad.fittedvalues\n",
    "    all_df[country]['data']['y_bar_quad'] = all_df[country]['data']['y']-fitted_values_quad\n",
    "    all_df[country]['data']['y_bar_quad_us'] = all_df[country]['data']['y_us'] - fitted_values_us_quad\n",
    "    \n",
    "    #HP Filter\n",
    "    cycle,trend = sm.tsa.filters.hpfilter(all_df[country]['data']['y'],129600) #Ravn and Uhlig use 129,600 for monthly data\n",
    "    all_df[country]['data']['y_bar_hp'] = cycle\n",
    "    cycle_us,trend_us = sm.tsa.filters.hpfilter(all_df[country]['data']['y_us'],129600)\n",
    "    all_df[country]['data']['y_bar_hp_us'] = cycle_us"
   ]
  },
  {
   "cell_type": "code",
   "execution_count": null,
   "id": "7b77aaf6",
   "metadata": {},
   "outputs": [],
   "source": [
    "#save_result_to = 'path-to-save'\n",
    "\n",
    "for country in country_list:\n",
    "    plt.clf()\n",
    "    plt.plot(all_df[country]['data'].index, all_df[country]['data']['y_bar_linear'], label = 'Linear trend')\n",
    "    plt.plot(all_df[country]['data'].index, all_df[country]['data']['y_bar_quad'], label = 'Quadratic trend', linestyle = 'dashed')\n",
    "    plt.plot(all_df[country]['data'].index, all_df[country]['data']['y_bar_hp'], label = 'HP filter', linestyle = 'dashdot')\n",
    "    plt.xticks(rotation = 45)\n",
    "    plt.legend()\n",
    "    plt.xlabel('Time')\n",
    "    plt.ylabel('Deviation from the trend')\n",
    "    #plt.savefig(save_result_to+country+'_output_gap',bbox_inches = 'tight', dpi = 300)\n",
    "    \n",
    "plt.clf()\n",
    "plt.plot(all_df['TH']['data'].index, all_df['TH']['data']['y_bar_linear_us'], label = 'Linear trend')\n",
    "plt.plot(all_df['TH']['data'].index, all_df['TH']['data']['y_bar_quad_us'], label = 'Quadratic trend', linestyle = 'dashed')\n",
    "plt.plot(all_df['TH']['data'].index, all_df['TH']['data']['y_bar_hp_us'], label = 'HP filter', linestyle = 'dashdot')\n",
    "plt.xticks(rotation = 45)\n",
    "plt.legend()\n",
    "plt.xlabel('Time')\n",
    "plt.ylabel('Deviation from the trend')\n",
    "#plt.savefig(save_result_to+'US_output_gap',bbox_inches = 'tight', dpi = 300)    "
   ]
  },
  {
   "cell_type": "markdown",
   "id": "223ff68c",
   "metadata": {},
   "source": [
    "## Other variables <a name = 'generate-varaibles-other'></a>\n",
    "The variables that are generated in this part are:\n",
    "1. Real exchange rate\n",
    "2. Interest rate differential\n",
    "3. Inflation differential\n",
    "4. Output gap differential\n",
    "5. Lagged interest rate (Domestic)\n",
    "6. Lagged interest rate (U.S.)\n",
    "7. Lagged interest rate differential"
   ]
  },
  {
   "cell_type": "code",
   "execution_count": null,
   "id": "2167bb68",
   "metadata": {},
   "outputs": [],
   "source": [
    "for country in country_list:\n",
    "    all_df[country]['data']['q'] = all_df[country]['data']['s']+all_df[country]['data']['p_us']-all_df[country]['data']['p']\n",
    "    all_df[country]['data']['i_diff'] = all_df[country]['data']['FIMM_PA']-all_df[country]['data']['US_FIMM_PA']\n",
    "    all_df[country]['data']['inf_diff'] = all_df[country]['data']['inf']-all_df[country]['data']['inf_us']\n",
    "    all_df[country]['data']['y_bar_linear_diff'] = all_df[country]['data']['y_bar_linear']-all_df[country]['data']['y_bar_linear_us']\n",
    "    all_df[country]['data']['y_bar_quad_diff'] = all_df[country]['data']['y_bar_quad']-all_df[country]['data']['y_bar_quad_us']\n",
    "    all_df[country]['data']['y_bar_hp_diff'] = all_df[country]['data']['y_bar_hp']-all_df[country]['data']['y_bar_hp_us']\n",
    "    all_df[country]['data']['i_lag'] = all_df[country]['data']['FIMM_PA'].shift(1)\n",
    "    all_df[country]['data']['i_lag_us'] = all_df[country]['data']['US_FIMM_PA'].shift(1)\n",
    "    all_df[country]['data']['i_lag_diff'] = all_df[country]['data']['i_lag']-all_df[country]['data']['i_lag_us']"
   ]
  },
  {
   "cell_type": "code",
   "execution_count": null,
   "id": "5f34cd00",
   "metadata": {},
   "outputs": [],
   "source": [
    "# Drop the irrelevant observations out\n",
    "df_th = df_th[12:]\n",
    "df_my = df_my[43:]\n",
    "df_sg = df_sg[12:]\n",
    "df_id = df_id[12:]\n",
    "\n",
    "# Update the dictionary\n",
    "all_df = {'TH':{'data':df_th}, 'MY':{'data':df_my}, 'SG':{'data':df_sg}, 'ID':{'data':df_id}}"
   ]
  },
  {
   "cell_type": "markdown",
   "id": "b1b0dd30",
   "metadata": {},
   "source": [
    "$\\textbf{Note}:$ The data apendix dictionary (dta_apd) is created for later into the $\\LaTeX$, on which my thesis is written."
   ]
  },
  {
   "cell_type": "code",
   "execution_count": null,
   "id": "cf3442a6",
   "metadata": {},
   "outputs": [],
   "source": [
    "dta_appendix_1 = ['s', 'm', 'm_us', 'y', 'y_us', 'p', 'p_us', 'd_s_1', 'd_s_3', 'd_s_6', 'd_s_12', 'inf', 'inf_us']\n",
    "dta_apd = {}\n",
    "for country in country_list:\n",
    "    dta_apd.update({country : all_df[country]['data'][dta_appendix_1].describe()})\n",
    "    dta_apd[country].loc['count'] = dta_apd[country].loc['count'].astype(int).astype(str)\n",
    "    dta_apd[country].loc['skewness'] = np.transpose(pd.DataFrame(data = skew(all_df[country]['data'][dta_appendix_1].dropna()),\\\n",
    "                                               index = dta_appendix_1)).values[0]\n",
    "    dta_apd[country].loc['kurtosis'] = np.transpose(pd.DataFrame(data = kurtosis(all_df[country]['data'][dta_appendix_1].dropna()),\\\n",
    "                                               index = dta_appendix_1)).values[0]"
   ]
  },
  {
   "cell_type": "code",
   "execution_count": null,
   "id": "72e8a19c",
   "metadata": {},
   "outputs": [],
   "source": [
    "#print(dta_apd['ID'].to_latex(index = True))\n",
    "#print(dta_apd['SG'].to_latex(index = True))\n",
    "#print(dta_apd['MY'].to_latex(index = True))\n",
    "#print(dta_apd['TH'].to_latex(index = True))"
   ]
  },
  {
   "cell_type": "markdown",
   "id": "aa23dde3",
   "metadata": {},
   "source": [
    "## Plot some data <a name = 'plot-data'></a>"
   ]
  },
  {
   "cell_type": "code",
   "execution_count": null,
   "id": "b751faab",
   "metadata": {},
   "outputs": [],
   "source": [
    "# Set path to which the figures will be saved\n",
    "save_result_to = 'path-to-save'"
   ]
  },
  {
   "cell_type": "markdown",
   "id": "3a5e4695",
   "metadata": {},
   "source": [
    "### Exchange rate"
   ]
  },
  {
   "cell_type": "code",
   "execution_count": null,
   "id": "d87277fa",
   "metadata": {},
   "outputs": [],
   "source": [
    "#Plot exchange rate\n",
    "for series in ['d_s_1','d_s_3','d_s_6','d_s_12']:\n",
    "    plt.clf()\n",
    "    plt.plot(all_df['ID']['data'][series].index, all_df['ID']['data'][series], label = 'Indonesia')\n",
    "    plt.plot(all_df['MY']['data'][series].index, all_df['MY']['data'][series], label = 'Malaysia',linestyle = 'dashed')\n",
    "    plt.plot(all_df['SG']['data'][series].index, all_df['SG']['data'][series], label = 'Singapore', linestyle = 'dotted')\n",
    "    plt.plot(all_df['TH']['data'][series].index, all_df['TH']['data'][series], label = 'Thailand', linestyle = 'dashdot')\n",
    "    plt.legend()\n",
    "    plt.xlabel('Time')\n",
    "    plt.ylabel('$s_{t+h} - s_{t}$')\n",
    "    plt.show()\n",
    "    #plt.savefig(save_result_to+series, dpi =300, bbox_inches = 'tight')"
   ]
  },
  {
   "cell_type": "markdown",
   "id": "cb0e198f",
   "metadata": {},
   "source": [
    "### Inflation"
   ]
  },
  {
   "cell_type": "code",
   "execution_count": null,
   "id": "d312361b",
   "metadata": {},
   "outputs": [],
   "source": [
    "for series in ['inf_diff']:\n",
    "    plt.clf()\n",
    "    plt.plot(all_df['ID']['data'][series].index, all_df['ID']['data'][series], label = 'Indonesia')\n",
    "    plt.plot(all_df['MY']['data'][series].index, all_df['MY']['data'][series], label = 'Malaysia',linestyle = 'dashed')\n",
    "    plt.plot(all_df['SG']['data'][series].index, all_df['SG']['data'][series], label = 'Singapore', linestyle = 'dotted')\n",
    "    plt.plot(all_df['TH']['data'][series].index, all_df['TH']['data'][series], label = 'Thailand', linestyle = 'dashdot')\n",
    "    plt.legend()\n",
    "    plt.xlabel('Time')\n",
    "    plt.ylabel('$\\pi - \\pi^*$ (percentage point)')\n",
    "    #plt.savefig(save_result_to+series, dpi =300, bbox_inches = 'tight')"
   ]
  },
  {
   "cell_type": "markdown",
   "id": "990c97e3",
   "metadata": {},
   "source": [
    "### Log of money supply"
   ]
  },
  {
   "cell_type": "code",
   "execution_count": null,
   "id": "66ebb57c",
   "metadata": {},
   "outputs": [],
   "source": [
    "for series in ['m']:\n",
    "    plt.clf()\n",
    "    plt.plot(all_df['ID']['data'][series].index, all_df['ID']['data'][series]-all_df['ID']['data']['m_us'], label = 'Indonesia')\n",
    "    plt.plot(all_df['MY']['data'][series].index, all_df['MY']['data'][series]-all_df['MY']['data']['m_us'], label = 'Malaysia',linestyle = 'dashed')\n",
    "    plt.plot(all_df['SG']['data'][series].index, all_df['SG']['data'][series]-all_df['SG']['data']['m_us'], label = 'Singapore', linestyle = 'dotted')\n",
    "    plt.plot(all_df['TH']['data'][series].index, all_df['TH']['data'][series]-all_df['TH']['data']['m_us'], label = 'Thailand', linestyle = 'dashdot')\n",
    "    plt.legend()\n",
    "    plt.xlabel('Time')\n",
    "    plt.ylabel('$m-m^*$')\n",
    "    #plt.savefig(save_result_to+series, dpi =300, bbox_inches = 'tight')"
   ]
  },
  {
   "cell_type": "markdown",
   "id": "e92ee048",
   "metadata": {},
   "source": [
    "### Log of price level"
   ]
  },
  {
   "cell_type": "code",
   "execution_count": null,
   "id": "2ab44e2e",
   "metadata": {
    "scrolled": true
   },
   "outputs": [],
   "source": [
    "for series in ['p']:\n",
    "    plt.clf()\n",
    "    plt.plot(all_df['ID']['data'][series].index, all_df['ID']['data'][series]-all_df['ID']['data']['p_us'], label = 'Indonesia')\n",
    "    plt.plot(all_df['MY']['data'][series].index, all_df['MY']['data'][series]-all_df['MY']['data']['p_us'], label = 'Malaysia',linestyle = 'dashed')\n",
    "    plt.plot(all_df['SG']['data'][series].index, all_df['SG']['data'][series]-all_df['SG']['data']['p_us'], label = 'Singapore', linestyle = 'dotted')\n",
    "    plt.plot(all_df['TH']['data'][series].index, all_df['TH']['data'][series]-all_df['TH']['data']['p_us'], label = 'Thailand', linestyle = 'dashdot')\n",
    "    plt.legend()\n",
    "    plt.xlabel('Time')\n",
    "    plt.ylabel('$p-p^*$')\n",
    "    #plt.savefig(save_result_to+series, dpi =300, bbox_inches = 'tight')"
   ]
  },
  {
   "cell_type": "markdown",
   "id": "5ce6ff89",
   "metadata": {},
   "source": [
    "### Log of output"
   ]
  },
  {
   "cell_type": "code",
   "execution_count": null,
   "id": "9f1b85be",
   "metadata": {},
   "outputs": [],
   "source": [
    "for series in ['y']:\n",
    "    plt.clf()\n",
    "    plt.plot(all_df['ID']['data'][series].index, all_df['ID']['data'][series]-all_df['ID']['data']['y_us'], label = 'Indonesia')\n",
    "    plt.plot(all_df['MY']['data'][series].index, all_df['MY']['data'][series]-all_df['MY']['data']['y_us'], label = 'Malaysia',linestyle = 'dashed')\n",
    "    plt.plot(all_df['SG']['data'][series].index, all_df['SG']['data'][series]-all_df['SG']['data']['y_us'], label = 'Singapore', linestyle = 'dotted')\n",
    "    plt.plot(all_df['TH']['data'][series].index, all_df['TH']['data'][series]-all_df['TH']['data']['y_us'], label = 'Thailand', linestyle = 'dashdot')\n",
    "    plt.legend()\n",
    "    plt.xlabel('Time')\n",
    "    plt.ylabel('$y-y^*$')\n",
    "    #plt.savefig(save_result_to+series, dpi =300, bbox_inches = 'tight')"
   ]
  },
  {
   "cell_type": "markdown",
   "id": "2325e29e",
   "metadata": {},
   "source": [
    "## Generate fundamentals <a name='generate-fund'></a>\n",
    "\n",
    "$\\textit{Description}:$\n",
    "In order to generate an exchange rate forecast, the \"fundamental\" is used as a predictor. In this study, the fundamentals used are\n",
    "1. Monetary fundmental with different income elasticities (0,1,3)\n",
    "2. Purchasing power parity\n",
    "3. Taylor rules"
   ]
  },
  {
   "cell_type": "code",
   "execution_count": null,
   "id": "2b08990f",
   "metadata": {},
   "outputs": [],
   "source": [
    "for country in country_list:\n",
    "    all_df[country]['fund'] = pd.DataFrame(data=np.nan, index = all_df[country]['data'].index, \\\n",
    "                                                columns = ['monet_0', 'monet_1','monet_3','ppp'])"
   ]
  },
  {
   "cell_type": "code",
   "execution_count": null,
   "id": "991bb359",
   "metadata": {},
   "outputs": [],
   "source": [
    "#Create the dictionary that contains all the taylor rules forms\n",
    "taylor_dict = {'HP_Filter':{'tr01':['inf','inf_us','y_bar_hp','y_bar_hp_us','q'],\n",
    "              'tr02':['inf_diff','y_bar_hp_diff','q'],\n",
    "              'tr03':['inf','inf_us','y_bar_hp','y_bar_hp_us','q','i_lag','i_lag_us'],\n",
    "              'tr04':['inf_diff','y_bar_hp_diff','q','i_lag_diff'],\n",
    "              'tr05':['inf','inf_us','y_bar_hp','y_bar_hp_us'],\n",
    "              'tr06':['inf_diff','y_bar_hp_diff'],\n",
    "              'tr07':['inf','inf_us','y_bar_hp','y_bar_hp_us','i_lag','i_lag_us'],\n",
    "              'tr08':['inf_diff','y_bar_hp_diff','i_lag_diff']},\\\n",
    "               'Linear':{'tr01':['inf','inf_us','y_bar_linear','y_bar_linear_us','q'],\n",
    "              'tr02':['inf_diff','y_bar_linear_diff','q'],\n",
    "              'tr03':['inf','inf_us','y_bar_linear','y_bar_linear_us','q','i_lag','i_lag_us'],\n",
    "              'tr04':['inf_diff','y_bar_linear_diff','q','i_lag_diff'],\n",
    "              'tr05':['inf','inf_us','y_bar_linear','y_bar_linear_us'],\n",
    "              'tr06':['inf_diff','y_bar_linear_diff'],\n",
    "              'tr07':['inf','inf_us','y_bar_linear','y_bar_linear_us','i_lag','i_lag_us'],\n",
    "              'tr08':['inf_diff','y_bar_linear_diff','i_lag_diff']},\n",
    "               'Quadratic':{'tr01':['inf','inf_us','y_bar_quad','y_bar_quad_us','q'],\n",
    "              'tr02':['inf_diff','y_bar_quad_diff','q'],\n",
    "              'tr03':['inf','inf_us','y_bar_quad','y_bar_quad_us','q','i_lag','i_lag_us'],\n",
    "              'tr04':['inf_diff','y_bar_quad_diff','q','i_lag_diff'],\n",
    "              'tr05':['inf','inf_us','y_bar_quad','y_bar_quad_us'],\n",
    "              'tr06':['inf_diff','y_bar_quad_diff'],\n",
    "              'tr07':['inf','inf_us','y_bar_quad','y_bar_quad_us','i_lag','i_lag_us'],\n",
    "              'tr08':['inf_diff','y_bar_quad_diff','i_lag_diff']}}\n",
    "\n",
    "detrend_list = ['Linear','Quadratic','HP_Filter']"
   ]
  },
  {
   "cell_type": "code",
   "execution_count": null,
   "id": "e4afce54",
   "metadata": {},
   "outputs": [],
   "source": [
    "for country in country_list:\n",
    "    all_df[country]['fund']['monet_0'] = all_df[country]['data']['m']-all_df[country]['data']['m_us']-all_df[country]['data']['s']\n",
    "    all_df[country]['fund']['monet_1'] = all_df[country]['data']['m']-all_df[country]['data']['m_us']-(all_df[country]['data']['y']-all_df[country]['data']['y_us'])-all_df[country]['data']['s']\n",
    "    all_df[country]['fund']['monet_3'] = all_df[country]['data']['m']-all_df[country]['data']['m_us']-(3*(all_df[country]['data']['y']-all_df[country]['data']['y_us']))-all_df[country]['data']['s']\n",
    "    all_df[country]['fund']['ppp'] = all_df[country]['data']['p']-all_df[country]['data']['p_us']-all_df[country]['data']['s']\n",
    "    for detrend_type in detrend_list:\n",
    "        for taylor in list(taylor_dict[detrend_type]):\n",
    "            mod, samples, mod_coef = \\\n",
    "            analysis(all_df[country]['data'][['i_diff']].values, all_df[country]['data'][taylor_dict[detrend_type][taylor]].values, \n",
    "                                family=\"normal\",\n",
    "                                forecast_start=0,       \n",
    "                                forecast_end=len(all_df[country]['data'][['i_diff']])-1,         \n",
    "                                k=1,                                                                    \n",
    "                                rho=.5,                                    \n",
    "                                deltrend=0.95,                          \n",
    "                                delregn=0.95,\n",
    "                                ret = ['model', 'forecast', 'model_coef']) # By default, the prior length is 20 Hence.\n",
    "            mod_noc, samples_noc, mod_noc_coef = \\\n",
    "            analysis(all_df[country]['data'][['i_diff']].values, all_df[country]['data'][taylor_dict[detrend_type][taylor]].values, \n",
    "                                family=\"normal\",\n",
    "                                forecast_start=0,       \n",
    "                                forecast_end=len(all_df[country]['data'][['i_diff']])-1,         \n",
    "                                k=1,                                                                    \n",
    "                                rho=.5,                                    \n",
    "                                deltrend=0.95,                          \n",
    "                                delregn=0.95,\n",
    "                                intercept = False,\n",
    "                                ret = ['model', 'forecast', 'model_coef'])\n",
    "            forecast_median = median(samples)\n",
    "            all_df[country]['fund'][detrend_type+'_'+taylor] = forecast_median \n",
    "            forecast_median_noc = median(samples_noc)\n",
    "            all_df[country]['fund'][detrend_type+'_'+taylor+'_noc'] = forecast_median_noc\n",
    "            \n",
    "#Update the Dictionry\n",
    "for country in country_list:\n",
    "    all_df[country].update({'data':all_df[country]['data'][20:]})\n",
    "    all_df[country].update({'fund':all_df[country]['fund'][20:]})"
   ]
  },
  {
   "cell_type": "markdown",
   "id": "0853405e",
   "metadata": {},
   "source": [
    "## Taylor Rule and Interest Rate Differential <a name='tr-intdiff'></a>"
   ]
  },
  {
   "cell_type": "code",
   "execution_count": null,
   "id": "646fc09d",
   "metadata": {},
   "outputs": [],
   "source": [
    "#Specify the path of the figures to be located.\n",
    "save_results_to = 'path-to-save'"
   ]
  },
  {
   "cell_type": "code",
   "execution_count": null,
   "id": "e1d148ca",
   "metadata": {},
   "outputs": [],
   "source": [
    "for country in country_list:\n",
    "    for taylor in all_df['TH']['fund'].columns[4:]:\n",
    "        plt.clf() # Clear figure\n",
    "        plt.plot(all_df[country]['data']['i_diff'].index,all_df[country]['data']['i_diff'], label = 'Actual')\n",
    "        plt.plot(all_df[country]['fund'][taylor].index,all_df[country]['fund'][taylor], \\\n",
    "                 label = 'Predicted', linestyle = 'dashdot')\n",
    "        plt.xticks()\n",
    "        plt.legend()\n",
    "        plt.ylabel('Interest rate differentials (percentage point)')\n",
    "        plt.xlabel('Time')\n",
    "        #plt.savefig(save_results_to+country+'_'+taylor, dpi = 300)"
   ]
  },
  {
   "cell_type": "markdown",
   "id": "2d7be3b3",
   "metadata": {},
   "source": [
    "$\\textbf{Note}:$ Calculate the root mean squared error (RMSE) to observe how well taylor rule can predict the interest rate differential/."
   ]
  },
  {
   "cell_type": "code",
   "execution_count": null,
   "id": "fe281956",
   "metadata": {},
   "outputs": [],
   "source": [
    "for country in country_list:\n",
    "    all_df[country]['taylor_perf'] = pd.DataFrame(data= np.nan, index = all_df['TH']['fund'].columns[4:],\\\n",
    "                                                 columns = ['rmse'])\n",
    "    for taylor_type in all_df[country]['fund'].columns[4:]:\n",
    "        mse = mean_squared_error(all_df[country]['data']['i_diff'].values,\\\n",
    "                                 all_df[country]['fund'][taylor_type])\n",
    "        rmse = np.sqrt(mse)\n",
    "        all_df[country]['taylor_perf'].loc[taylor_type] = rmse"
   ]
  },
  {
   "cell_type": "markdown",
   "id": "4679a9f8",
   "metadata": {},
   "source": [
    "$\\textbf{Note}:$ The following steps are for the translating to $\\LaTeX$."
   ]
  },
  {
   "cell_type": "code",
   "execution_count": null,
   "id": "2fd98048",
   "metadata": {},
   "outputs": [],
   "source": [
    "linear_tr = []\n",
    "linear_tr_noc = []\n",
    "quad_tr = []\n",
    "quad_tr_noc = []\n",
    "hp_tr = []\n",
    "hp_tr_noc = []\n",
    "for n in range(16):\n",
    "    if n%2==0:\n",
    "        linear_tr.append(all_df['TH']['fund'].columns[4:][0:16][n])\n",
    "        quad_tr.append(all_df['TH']['fund'].columns[4:][16:32][n])\n",
    "        hp_tr.append(all_df['TH']['fund'].columns[4:][32:48][n])\n",
    "    else:\n",
    "        linear_tr_noc.append(all_df['TH']['fund'].columns[4:][0:16][n])\n",
    "        quad_tr_noc.append(all_df['TH']['fund'].columns[4:][16:32][n])\n",
    "        hp_tr_noc.append(all_df['TH']['fund'].columns[4:][32:48][n])"
   ]
  },
  {
   "cell_type": "code",
   "execution_count": null,
   "id": "9178838c",
   "metadata": {},
   "outputs": [],
   "source": [
    "rmse_linear_tr = pd.DataFrame(data = np.nan, index = linear_tr, columns = country_list)\n",
    "rmse_linear_tr_noc = pd.DataFrame(data = np.nan, index = linear_tr_noc, columns = country_list)\n",
    "for country in country_list:\n",
    "    for x,y in zip(linear_tr, linear_tr_noc):\n",
    "        rmse_linear_tr[country].loc[x] = float(all_df[country]['taylor_perf'].loc[x])\n",
    "        rmse_linear_tr_noc[country].loc[y] = float(all_df[country]['taylor_perf'].loc[y])"
   ]
  },
  {
   "cell_type": "code",
   "execution_count": null,
   "id": "7b4c1d44",
   "metadata": {},
   "outputs": [],
   "source": [
    "np.transpose(rmse_linear_tr)"
   ]
  },
  {
   "cell_type": "code",
   "execution_count": null,
   "id": "594b84be",
   "metadata": {},
   "outputs": [],
   "source": [
    "#print(np.transpose(rmse_linear_tr).to_latex(index = False))"
   ]
  },
  {
   "cell_type": "code",
   "execution_count": null,
   "id": "2388ec8b",
   "metadata": {},
   "outputs": [],
   "source": [
    "np.transpose(rmse_linear_tr_noc)"
   ]
  },
  {
   "cell_type": "code",
   "execution_count": null,
   "id": "bbe42e06",
   "metadata": {},
   "outputs": [],
   "source": [
    "#print(np.transpose(rmse_linear_tr_noc).to_latex(index = False))"
   ]
  },
  {
   "cell_type": "code",
   "execution_count": null,
   "id": "4eda5132",
   "metadata": {},
   "outputs": [],
   "source": [
    "rmse_quad_tr = pd.DataFrame(data = np.nan, index = quad_tr, columns = country_list)\n",
    "rmse_quad_tr_noc = pd.DataFrame(data = np.nan, index = quad_tr_noc, columns = country_list)\n",
    "for country in country_list:\n",
    "    for x,y in zip(quad_tr, quad_tr_noc):\n",
    "        rmse_quad_tr[country].loc[x] = float(all_df[country]['taylor_perf'].loc[x])\n",
    "        rmse_quad_tr_noc[country].loc[y] = float(all_df[country]['taylor_perf'].loc[y])"
   ]
  },
  {
   "cell_type": "code",
   "execution_count": null,
   "id": "cc8dd9c1",
   "metadata": {
    "scrolled": true
   },
   "outputs": [],
   "source": [
    "np.transpose(rmse_quad_tr)"
   ]
  },
  {
   "cell_type": "code",
   "execution_count": null,
   "id": "5af84b07",
   "metadata": {},
   "outputs": [],
   "source": [
    "#print(np.transpose(rmse_quad_tr).to_latex(index = False))"
   ]
  },
  {
   "cell_type": "code",
   "execution_count": null,
   "id": "03610965",
   "metadata": {},
   "outputs": [],
   "source": [
    "np.transpose(rmse_quad_tr_noc)"
   ]
  },
  {
   "cell_type": "code",
   "execution_count": null,
   "id": "1ecbd94f",
   "metadata": {},
   "outputs": [],
   "source": [
    "#print(np.transpose(rmse_quad_tr_noc).to_latex(index = False))"
   ]
  },
  {
   "cell_type": "code",
   "execution_count": null,
   "id": "6e13158d",
   "metadata": {},
   "outputs": [],
   "source": [
    "rmse_hp_tr = pd.DataFrame(data = np.nan, index = hp_tr, columns = country_list)\n",
    "rmse_hp_tr_noc = pd.DataFrame(data = np.nan, index = hp_tr_noc, columns = country_list)\n",
    "for country in country_list:\n",
    "    for x,y in zip(hp_tr, hp_tr_noc):\n",
    "        rmse_hp_tr[country].loc[x] = float(all_df[country]['taylor_perf'].loc[x])\n",
    "        rmse_hp_tr_noc[country].loc[y] = float(all_df[country]['taylor_perf'].loc[y])"
   ]
  },
  {
   "cell_type": "code",
   "execution_count": null,
   "id": "8bccaed5",
   "metadata": {},
   "outputs": [],
   "source": [
    "np.transpose(rmse_hp_tr)"
   ]
  },
  {
   "cell_type": "code",
   "execution_count": null,
   "id": "cb166e96",
   "metadata": {},
   "outputs": [],
   "source": [
    "#print(np.transpose(rmse_hp_tr).to_latex(index = False))"
   ]
  },
  {
   "cell_type": "code",
   "execution_count": null,
   "id": "7f2c20c6",
   "metadata": {},
   "outputs": [],
   "source": [
    "np.transpose(rmse_hp_tr_noc)"
   ]
  },
  {
   "cell_type": "code",
   "execution_count": null,
   "id": "184824f1",
   "metadata": {},
   "outputs": [],
   "source": [
    "#print(np.transpose(rmse_hp_tr_noc).to_latex(index = False))"
   ]
  },
  {
   "cell_type": "markdown",
   "id": "e52c4744",
   "metadata": {},
   "source": [
    "Creating a dataframe which stores the RMSE for each Taylor rule and for each country "
   ]
  },
  {
   "cell_type": "code",
   "execution_count": null,
   "id": "eec0c9e5",
   "metadata": {},
   "outputs": [],
   "source": [
    "# Create the Dataframe that show the performance of the Taylor rule for all countries.\n",
    "rmse_taylor = pd.DataFrame(data = np.nan, index = all_df['TH']['fund'].columns[4:], \\\n",
    "                           columns = [country for country in country_list])\n",
    "for country in country_list:\n",
    "    rmse_taylor[country] = all_df[country]['taylor_perf']\n",
    "rmse_taylor"
   ]
  },
  {
   "cell_type": "code",
   "execution_count": null,
   "id": "80efee12",
   "metadata": {},
   "outputs": [],
   "source": [
    "# Create the table reporting the average RMSE of the Taylor rule predictions.\n",
    "np.transpose(pd.DataFrame(data = rmse_taylor.mean(), index = rmse_taylor.columns, columns = ['RMSE']))"
   ]
  },
  {
   "cell_type": "code",
   "execution_count": null,
   "id": "b4abfeb6",
   "metadata": {},
   "outputs": [],
   "source": [
    "pd.DataFrame(data = rmse_taylor.mean(), index = rmse_taylor.columns, columns = ['RMSE']).plot(kind = 'bar')\n",
    "plt.title(\"Average RMSE by country\")\n",
    "plt.xticks([0,1,2,3],['Thailand','Malaysia','Singapore','Indonesia'])\n",
    "#plt.savefig('average_rmse',dpi=300, bbox_inches='tight')"
   ]
  },
  {
   "cell_type": "markdown",
   "id": "29d0afe3",
   "metadata": {},
   "source": [
    "# Set up, Run the model, Calculate U-Statistics <a name='main'></a>\n",
    "- Discard the first 20 observations out to obtain the prior distribution of the coefficients.\n",
    "- Train:Test (after discarded) = 80:20"
   ]
  },
  {
   "cell_type": "code",
   "execution_count": null,
   "id": "e5023a62",
   "metadata": {},
   "outputs": [],
   "source": [
    "all_df['SG']['fund'].index"
   ]
  },
  {
   "cell_type": "code",
   "execution_count": null,
   "id": "281035d8",
   "metadata": {},
   "outputs": [],
   "source": [
    "D = 20 # The number of observations that are discarded to obtain the prior distribution of the coefficients.\n",
    "forecast_horizon = [1,3,6,12]\n",
    "target = ['d_s_'+str(forecast_horizon[i]) for i in range(len(forecast_horizon))]\n",
    "save_fig_coef = 'path-to-save' # Path to store the plot of the coefficient.\n",
    "for country in country_list:\n",
    "    all_df[country]['result'] = {}\n",
    "    all_df[country]['u_stat'] = {}\n",
    "    R = math.ceil(0.8*(len(all_df[country]['data'])-D)) # 80% of the data will be used to update the parameters\n",
    "    P = len(all_df[country]['data'])-D-math.ceil(0.8*(len(all_df[country]['data'])-D)) # 20% will be the test set.\n",
    "    print(f\"Train set of {country} = {R}\")\n",
    "    print(f\"Test set of {country} = {P}\")\n",
    "    for h in range(len(forecast_horizon)):\n",
    "# Set up the forecast_start and forecast_end for each forecast horizon\n",
    "        forecast_start = D+R\n",
    "        forecast_end = D+R+P-forecast_horizon[h]\n",
    "# Create the dataframe that contains the predicted values.\n",
    "        all_df[country]['result'].update(\\\n",
    "                                         {'h='+str(forecast_horizon[h]):\\\n",
    "                                          pd.DataFrame(data = np.nan, \\\n",
    "                                                       index = all_df[country]['fund'].index[D+R+forecast_horizon[h]-1:D+R+P],\\\n",
    "                                                       columns = all_df[country]['fund'].columns)})\n",
    "# Create the dataframe that contains the U-statistics.\n",
    "        all_df[country]['u_stat'].update({'u_stat_'+str(forecast_horizon[h]):\\\n",
    "                                         pd.DataFrame(data = np.nan, index = all_df[country]['fund'].columns, \\\n",
    "                                                      columns = ['U_Stat'])})\n",
    "# Create the dataframe containning the actual value and its lagged term.\n",
    "        benchmark = pd.DataFrame(data = all_df[country]['data']['s'][(D+R-1):(D+R+P)-forecast_horizon[h]].values, \\\n",
    "                                 index = all_df[country]['fund'].index[D+R+forecast_horizon[h]-1:D+R+P],\\\n",
    "                                 columns = ['RW'])\n",
    "        benchmark['Actual'] = all_df[country]['data']['s'][D+R+forecast_horizon[h]-1:D+R+P].values\n",
    "# Start forecasting for each fundamental.\n",
    "        for fund in all_df[country]['fund'].columns:\n",
    "            mod_forecast, samples_forecast,mod_coef = analysis(all_df[country]['data'][target[h]].values,\\\n",
    "                                                               all_df[country]['fund'][fund].values.reshape(-1,1),\\\n",
    "                                                               family=\"normal\",\\\n",
    "                                                               forecast_start=forecast_start,\\\n",
    "                                                               forecast_end=forecast_end,\\\n",
    "                                                               k=1,\\\n",
    "                                                               prior_length=D,\\\n",
    "                                                               rho=.5,\\\n",
    "                                                               deltrend=0.95,\\\n",
    "                                                               delregn=0.95,\\\n",
    "                                                               ret = ['model', 'forecast', 'model_coef'])\n",
    "            forecast_median = median(samples_forecast)\n",
    "            all_df[country]['result']['h='+str(forecast_horizon[h])][fund]= forecast_median + \\\n",
    "                                              np.array(all_df[country]['data']['s'][forecast_start-1:forecast_end])\n",
    "# Create the data frame the collect the evolution of the coefficient\n",
    "            plot_coef_df = pd.DataFrame(data=np.nan, index = all_df[country]['fund'][D:].index, \\\n",
    "                                        columns = ['intercept','slope'])\n",
    "            for i in range(len(mod_coef['m'][D:])):\n",
    "                plot_coef_df.iloc[i] = mod_coef['m'][20:][i]\n",
    "# Plot the graph of the coefficient\n",
    "            plt.clf()\n",
    "            plt.plot(plot_coef_df.index, plot_coef_df['slope'], label = 'Slope')\n",
    "            plt.plot(plot_coef_df.index, np.zeros(len(mod_coef['m'][20:])), color = 'k', linestyle = 'dashed')\n",
    "            plt.ylabel('Coefficient (Slope)')\n",
    "            plt.xlabel('Time')\n",
    "            plt.legend()\n",
    "            #plt.savefig(save_fig_coef+country+'_'+str(forecast_horizon[h])+'_'+fund,bbox_inches = 'tight', dpi = 300)\n",
    "# Calculate U-statistics\n",
    "            agg_numerator = 0\n",
    "            agg_denominator = 0\n",
    "            for j in range(len(all_df[country]['result']['h='+str(forecast_horizon[h])][fund])):\n",
    "                numerator = (all_df[country]['result']['h='+str(forecast_horizon[h])][fund].iloc[j]-benchmark.iloc[j]['Actual'])/benchmark.iloc[j]['RW']\n",
    "                denominator = (benchmark.iloc[j]['Actual']-benchmark.iloc[j]['RW'])/benchmark.iloc[j]['RW']\n",
    "                agg_numerator += numerator*numerator\n",
    "                agg_denominator += denominator*denominator\n",
    "                u = np.sqrt(agg_numerator/agg_denominator)\n",
    "                all_df[country]['u_stat']['u_stat_'+str(forecast_horizon[h])].loc[fund] = u"
   ]
  },
  {
   "cell_type": "markdown",
   "id": "4000f942",
   "metadata": {},
   "source": [
    "## Constructing the Dataframe containing the U-statisitics (For LaTeX) <a name='u-latex'></a>"
   ]
  },
  {
   "cell_type": "markdown",
   "id": "780139ff",
   "metadata": {},
   "source": [
    "First, define the function to bold the value less than unity."
   ]
  },
  {
   "cell_type": "code",
   "execution_count": null,
   "id": "e22cffe2",
   "metadata": {},
   "outputs": [],
   "source": [
    "def bold_formatter(x, num_decimals=6):\n",
    "    if x<1:\n",
    "        return f\"\\\\textbf{{{x:.{num_decimals}f}}}\"\n",
    "    else:\n",
    "        return f\"{x:.{num_decimals}f}\""
   ]
  },
  {
   "cell_type": "markdown",
   "id": "e34e8cb8",
   "metadata": {},
   "source": [
    "### Taylor rule fundamentals"
   ]
  },
  {
   "cell_type": "markdown",
   "id": "d901a873",
   "metadata": {},
   "source": [
    "####  1-month horizon"
   ]
  },
  {
   "cell_type": "code",
   "execution_count": null,
   "id": "562b665f",
   "metadata": {},
   "outputs": [],
   "source": [
    "u_linear_tr = pd.DataFrame(data = np.nan, index = linear_tr, columns = np.sort(country_list))\n",
    "u_linear_tr_noc = pd.DataFrame(data = np.nan, index = linear_tr_noc, columns = np.sort(country_list))\n",
    "for country in np.sort(country_list):\n",
    "    for x,y in zip(linear_tr, linear_tr_noc):\n",
    "        value = float(all_df[country]['u_stat']['u_stat_1'].loc[x])\n",
    "        u_linear_tr[country].loc[x] = bold_formatter(value)\n",
    "        \n",
    "        value_noc = float(all_df[country]['u_stat']['u_stat_1'].loc[y])\n",
    "        u_linear_tr_noc[country].loc[y] = bold_formatter(value_noc)\n",
    "        \n",
    "u_linear_tr.rename(columns = {\"ID\":\"Indonesia\", \"MY\":\"Malaysia\", \"SG\":\"Singapore\", \"TH\":\"Thailand\"}, inplace = True)\n",
    "u_linear_tr_noc.rename(columns = {\"ID\":\"Indonesia\", \"MY\":\"Malaysia\", \"SG\":\"Singapore\", \"TH\":\"Thailand\"}, inplace = True)"
   ]
  },
  {
   "cell_type": "code",
   "execution_count": null,
   "id": "45335082",
   "metadata": {},
   "outputs": [],
   "source": [
    "u_quad_tr = pd.DataFrame(data = np.nan, index = quad_tr, columns = np.sort(country_list))\n",
    "u_quad_tr_noc = pd.DataFrame(data = np.nan, index = quad_tr_noc, columns = np.sort(country_list))\n",
    "for country in np.sort(country_list):\n",
    "    for x,y in zip(quad_tr, quad_tr_noc):\n",
    "        value = float(all_df[country]['u_stat']['u_stat_1'].loc[x])\n",
    "        u_quad_tr[country].loc[x] = bold_formatter(value)\n",
    "        \n",
    "        value_noc = float(all_df[country]['u_stat']['u_stat_1'].loc[y])\n",
    "        u_quad_tr_noc[country].loc[y] = bold_formatter(value_noc)\n",
    "\n",
    "u_quad_tr.rename(columns = {\"ID\":\"Indonesia\", \"MY\":\"Malaysia\", \"SG\":\"Singapore\", \"TH\":\"Thailand\"}, inplace = True)\n",
    "u_quad_tr_noc.rename(columns = {\"ID\":\"Indonesia\", \"MY\":\"Malaysia\", \"SG\":\"Singapore\", \"TH\":\"Thailand\"}, inplace = True)"
   ]
  },
  {
   "cell_type": "code",
   "execution_count": null,
   "id": "9197a1e5",
   "metadata": {},
   "outputs": [],
   "source": [
    "u_hp_tr = pd.DataFrame(data=np.nan, index=hp_tr, columns=np.sort(country_list))\n",
    "u_hp_tr_noc = pd.DataFrame(data=np.nan, index=hp_tr_noc, columns=np.sort(country_list))\n",
    "\n",
    "for country in np.sort(country_list):\n",
    "    for x, y in zip(hp_tr, hp_tr_noc):\n",
    "        value = float(all_df[country]['u_stat']['u_stat_1'].loc[x])\n",
    "        u_hp_tr[country].loc[x] = bold_formatter(value)\n",
    "        \n",
    "        value_noc = float(all_df[country]['u_stat']['u_stat_1'].loc[y])\n",
    "        u_hp_tr_noc[country].loc[y] = bold_formatter(value_noc)\n",
    "\n",
    "u_hp_tr.rename(columns = {\"ID\":\"Indonesia\", \"MY\":\"Malaysia\", \"SG\":\"Singapore\", \"TH\":\"Thailand\"}, inplace = True)\n",
    "u_hp_tr_noc.rename(columns = {\"ID\":\"Indonesia\", \"MY\":\"Malaysia\", \"SG\":\"Singapore\", \"TH\":\"Thailand\"}, inplace = True) "
   ]
  },
  {
   "cell_type": "code",
   "execution_count": null,
   "id": "38dc0002",
   "metadata": {},
   "outputs": [],
   "source": [
    "print(np.transpose(u_linear_tr).to_latex(index = True, escape = False))\n",
    "print(np.transpose(u_linear_tr_noc).to_latex(index = True, escape = False))\n",
    "print(np.transpose(u_quad_tr).to_latex(index = True, escape = False))\n",
    "print(np.transpose(u_quad_tr_noc).to_latex(index = True, escape = False))\n",
    "print(np.transpose(u_hp_tr).to_latex(index=True, escape = False))\n",
    "print(np.transpose(u_hp_tr_noc).to_latex(index=True, escape = False))"
   ]
  },
  {
   "cell_type": "markdown",
   "id": "aed6e835",
   "metadata": {},
   "source": [
    "#### 3-month horizon"
   ]
  },
  {
   "cell_type": "code",
   "execution_count": null,
   "id": "5c764c9b",
   "metadata": {},
   "outputs": [],
   "source": [
    "u3_linear_tr = pd.DataFrame(data = np.nan, index = linear_tr, columns = np.sort(country_list))\n",
    "u3_linear_tr_noc = pd.DataFrame(data = np.nan, index = linear_tr_noc, columns = np.sort(country_list))\n",
    "u3_quad_tr = pd.DataFrame(data = np.nan, index = quad_tr, columns = np.sort(country_list))\n",
    "u3_quad_tr_noc = pd.DataFrame(data = np.nan, index = quad_tr_noc, columns = np.sort(country_list))\n",
    "u3_hp_tr = pd.DataFrame(data=np.nan, index=hp_tr, columns= np.sort(country_list))\n",
    "u3_hp_tr_noc = pd.DataFrame(data=np.nan, index=hp_tr_noc, columns= np.sort(country_list))\n",
    "\n",
    "for country in np.sort(country_list):\n",
    "    for x,y in zip(linear_tr, linear_tr_noc):\n",
    "        value = float(all_df[country]['u_stat']['u_stat_3'].loc[x])\n",
    "        u3_linear_tr[country].loc[x] = bold_formatter(value)\n",
    "        \n",
    "        value_noc = float(all_df[country]['u_stat']['u_stat_3'].loc[y])\n",
    "        u3_linear_tr_noc[country].loc[y] = bold_formatter(value_noc)\n",
    "    \n",
    "    for a,b in zip(quad_tr, quad_tr_noc):\n",
    "        value = float(all_df[country]['u_stat']['u_stat_3'].loc[a])\n",
    "        u3_quad_tr[country].loc[a] = bold_formatter(value)\n",
    "        \n",
    "        value_noc = float(all_df[country]['u_stat']['u_stat_3'].loc[b])\n",
    "        u3_quad_tr_noc[country].loc[b] = bold_formatter(value_noc)\n",
    "    \n",
    "    for c,d in zip(hp_tr, hp_tr_noc):\n",
    "        value = float(all_df[country]['u_stat']['u_stat_3'].loc[c])\n",
    "        u3_hp_tr[country].loc[c] = bold_formatter(value)\n",
    "        \n",
    "        value_noc = float(all_df[country]['u_stat']['u_stat_3'].loc[d])\n",
    "        u3_hp_tr_noc[country].loc[d] = bold_formatter(value_noc)\n",
    "\n",
    "u3_linear_tr.rename(columns = {\"ID\":\"Indonesia\", \"MY\":\"Malaysia\", \"SG\":\"Singapore\", \"TH\":\"Thailand\"}, inplace = True)\n",
    "u3_linear_tr_noc.rename(columns = {\"ID\":\"Indonesia\", \"MY\":\"Malaysia\", \"SG\":\"Singapore\", \"TH\":\"Thailand\"}, inplace = True)\n",
    "u3_quad_tr.rename(columns = {\"ID\":\"Indonesia\", \"MY\":\"Malaysia\", \"SG\":\"Singapore\", \"TH\":\"Thailand\"}, inplace = True)\n",
    "u3_quad_tr_noc.rename(columns = {\"ID\":\"Indonesia\", \"MY\":\"Malaysia\", \"SG\":\"Singapore\", \"TH\":\"Thailand\"}, inplace = True)\n",
    "u3_hp_tr.rename(columns = {\"ID\":\"Indonesia\", \"MY\":\"Malaysia\", \"SG\":\"Singapore\", \"TH\":\"Thailand\"}, inplace = True)\n",
    "u3_hp_tr_noc.rename(columns = {\"ID\":\"Indonesia\", \"MY\":\"Malaysia\", \"SG\":\"Singapore\", \"TH\":\"Thailand\"}, inplace = True)"
   ]
  },
  {
   "cell_type": "code",
   "execution_count": null,
   "id": "0ab6ea9b",
   "metadata": {},
   "outputs": [],
   "source": [
    "print(np.transpose(u3_linear_tr).to_latex(index = True, escape = False))\n",
    "print(np.transpose(u3_linear_tr_noc).to_latex(index = True, escape = False))\n",
    "print(np.transpose(u3_quad_tr).to_latex(index = True, escape = False))\n",
    "print(np.transpose(u3_quad_tr_noc).to_latex(index = True, escape = False))\n",
    "print(np.transpose(u3_hp_tr).to_latex(index=True, escape = False))\n",
    "print(np.transpose(u3_hp_tr_noc).to_latex(index=True, escape = False))"
   ]
  },
  {
   "cell_type": "markdown",
   "id": "3f2dce66",
   "metadata": {},
   "source": [
    "#### 6-month horizon"
   ]
  },
  {
   "cell_type": "code",
   "execution_count": null,
   "id": "81baeb5c",
   "metadata": {},
   "outputs": [],
   "source": [
    "u6_linear_tr = pd.DataFrame(data = np.nan, index = linear_tr, columns = np.sort(country_list))\n",
    "u6_linear_tr_noc = pd.DataFrame(data = np.nan, index = linear_tr_noc, columns = np.sort(country_list))\n",
    "u6_quad_tr = pd.DataFrame(data = np.nan, index = quad_tr, columns = np.sort(country_list))\n",
    "u6_quad_tr_noc = pd.DataFrame(data = np.nan, index = quad_tr_noc, columns = np.sort(country_list))\n",
    "u6_hp_tr = pd.DataFrame(data=np.nan, index=hp_tr, columns= np.sort(country_list))\n",
    "u6_hp_tr_noc = pd.DataFrame(data=np.nan, index=hp_tr_noc, columns= np.sort(country_list))\n",
    "\n",
    "for country in np.sort(country_list):\n",
    "    for x,y in zip(linear_tr, linear_tr_noc):\n",
    "        value = float(all_df[country]['u_stat']['u_stat_6'].loc[x])\n",
    "        u6_linear_tr[country].loc[x] = bold_formatter(value)\n",
    "        \n",
    "        value_noc = float(all_df[country]['u_stat']['u_stat_6'].loc[y])\n",
    "        u6_linear_tr_noc[country].loc[y] = bold_formatter(value_noc)\n",
    "    \n",
    "    for a,b in zip(quad_tr, quad_tr_noc):\n",
    "        value = float(all_df[country]['u_stat']['u_stat_6'].loc[a])\n",
    "        u6_quad_tr[country].loc[a] = bold_formatter(value)\n",
    "        \n",
    "        value_noc = float(all_df[country]['u_stat']['u_stat_6'].loc[b])\n",
    "        u6_quad_tr_noc[country].loc[b] = bold_formatter(value_noc)\n",
    "    \n",
    "    for c,d in zip(hp_tr, hp_tr_noc):\n",
    "        value = float(all_df[country]['u_stat']['u_stat_6'].loc[c])\n",
    "        u6_hp_tr[country].loc[c] = bold_formatter(value)\n",
    "        \n",
    "        value_noc = float(all_df[country]['u_stat']['u_stat_6'].loc[d])\n",
    "        u6_hp_tr_noc[country].loc[d] = bold_formatter(value_noc)\n",
    "\n",
    "u6_linear_tr.rename(columns = {\"ID\":\"Indonesia\", \"MY\":\"Malaysia\", \"SG\":\"Singapore\", \"TH\":\"Thailand\"}, inplace = True)\n",
    "u6_linear_tr_noc.rename(columns = {\"ID\":\"Indonesia\", \"MY\":\"Malaysia\", \"SG\":\"Singapore\", \"TH\":\"Thailand\"}, inplace = True)\n",
    "u6_quad_tr.rename(columns = {\"ID\":\"Indonesia\", \"MY\":\"Malaysia\", \"SG\":\"Singapore\", \"TH\":\"Thailand\"}, inplace = True)\n",
    "u6_quad_tr_noc.rename(columns = {\"ID\":\"Indonesia\", \"MY\":\"Malaysia\", \"SG\":\"Singapore\", \"TH\":\"Thailand\"}, inplace = True)\n",
    "u6_hp_tr.rename(columns = {\"ID\":\"Indonesia\", \"MY\":\"Malaysia\", \"SG\":\"Singapore\", \"TH\":\"Thailand\"}, inplace = True)\n",
    "u6_hp_tr_noc.rename(columns = {\"ID\":\"Indonesia\", \"MY\":\"Malaysia\", \"SG\":\"Singapore\", \"TH\":\"Thailand\"}, inplace = True)"
   ]
  },
  {
   "cell_type": "code",
   "execution_count": null,
   "id": "7ed9c478",
   "metadata": {},
   "outputs": [],
   "source": [
    "print(np.transpose(u6_linear_tr).to_latex(index = True, escape = False))\n",
    "print(np.transpose(u6_linear_tr_noc).to_latex(index = True, escape = False))\n",
    "print(np.transpose(u6_quad_tr).to_latex(index = True, escape = False))\n",
    "print(np.transpose(u6_quad_tr_noc).to_latex(index = True, escape = False))\n",
    "print(np.transpose(u6_hp_tr).to_latex(index=True, escape = False))\n",
    "print(np.transpose(u6_hp_tr_noc).to_latex(index=True, escape = False))"
   ]
  },
  {
   "cell_type": "markdown",
   "id": "094db7c7",
   "metadata": {},
   "source": [
    "#### 12-month horizon"
   ]
  },
  {
   "cell_type": "code",
   "execution_count": null,
   "id": "c71329eb",
   "metadata": {},
   "outputs": [],
   "source": [
    "u12_linear_tr = pd.DataFrame(data = np.nan, index = linear_tr, columns = np.sort(country_list))\n",
    "u12_linear_tr_noc = pd.DataFrame(data = np.nan, index = linear_tr_noc, columns = np.sort(country_list))\n",
    "u12_quad_tr = pd.DataFrame(data = np.nan, index = quad_tr, columns = np.sort(country_list))\n",
    "u12_quad_tr_noc = pd.DataFrame(data = np.nan, index = quad_tr_noc, columns = np.sort(country_list))\n",
    "u12_hp_tr = pd.DataFrame(data=np.nan, index=hp_tr, columns= np.sort(country_list))\n",
    "u12_hp_tr_noc = pd.DataFrame(data=np.nan, index=hp_tr_noc, columns= np.sort(country_list))\n",
    "\n",
    "for country in np.sort(country_list):\n",
    "    for x,y in zip(linear_tr, linear_tr_noc):\n",
    "        value = float(all_df[country]['u_stat']['u_stat_12'].loc[x])\n",
    "        u12_linear_tr[country].loc[x] = bold_formatter(value)\n",
    "        \n",
    "        value_noc = float(all_df[country]['u_stat']['u_stat_12'].loc[y])\n",
    "        u12_linear_tr_noc[country].loc[y] = bold_formatter(value_noc)\n",
    "    \n",
    "    for a,b in zip(quad_tr, quad_tr_noc):\n",
    "        value = float(all_df[country]['u_stat']['u_stat_12'].loc[a])\n",
    "        u12_quad_tr[country].loc[a] = bold_formatter(value)\n",
    "        \n",
    "        value_noc = float(all_df[country]['u_stat']['u_stat_12'].loc[b])\n",
    "        u12_quad_tr_noc[country].loc[b] = bold_formatter(value_noc)\n",
    "    \n",
    "    for c,d in zip(hp_tr, hp_tr_noc):\n",
    "        value = float(all_df[country]['u_stat']['u_stat_12'].loc[c])\n",
    "        u12_hp_tr[country].loc[c] = bold_formatter(value)\n",
    "        \n",
    "        value_noc = float(all_df[country]['u_stat']['u_stat_12'].loc[d])\n",
    "        u12_hp_tr_noc[country].loc[d] = bold_formatter(value_noc)\n",
    "\n",
    "u12_linear_tr.rename(columns = {\"ID\":\"Indonesia\", \"MY\":\"Malaysia\", \"SG\":\"Singapore\", \"TH\":\"Thailand\"}, inplace = True)\n",
    "u12_linear_tr_noc.rename(columns = {\"ID\":\"Indonesia\", \"MY\":\"Malaysia\", \"SG\":\"Singapore\", \"TH\":\"Thailand\"}, inplace = True)\n",
    "u12_quad_tr.rename(columns = {\"ID\":\"Indonesia\", \"MY\":\"Malaysia\", \"SG\":\"Singapore\", \"TH\":\"Thailand\"}, inplace = True)\n",
    "u12_quad_tr_noc.rename(columns = {\"ID\":\"Indonesia\", \"MY\":\"Malaysia\", \"SG\":\"Singapore\", \"TH\":\"Thailand\"}, inplace = True)\n",
    "u12_hp_tr.rename(columns = {\"ID\":\"Indonesia\", \"MY\":\"Malaysia\", \"SG\":\"Singapore\", \"TH\":\"Thailand\"}, inplace = True)\n",
    "u12_hp_tr_noc.rename(columns = {\"ID\":\"Indonesia\", \"MY\":\"Malaysia\", \"SG\":\"Singapore\", \"TH\":\"Thailand\"}, inplace = True)"
   ]
  },
  {
   "cell_type": "code",
   "execution_count": null,
   "id": "cceb3254",
   "metadata": {},
   "outputs": [],
   "source": [
    "print(np.transpose(u12_linear_tr).to_latex(index = True, escape = False))\n",
    "print(np.transpose(u12_linear_tr_noc).to_latex(index = True, escape = False))\n",
    "print(np.transpose(u12_quad_tr).to_latex(index = True, escape = False))\n",
    "print(np.transpose(u12_quad_tr_noc).to_latex(index = True, escape = False))\n",
    "print(np.transpose(u12_hp_tr).to_latex(index=True, escape = False))\n",
    "print(np.transpose(u12_hp_tr_noc).to_latex(index=True, escape = False))"
   ]
  },
  {
   "cell_type": "markdown",
   "id": "9d312110",
   "metadata": {},
   "source": [
    "### Non-Taylor rule fundamentals"
   ]
  },
  {
   "cell_type": "code",
   "execution_count": null,
   "id": "8927ff29",
   "metadata": {},
   "outputs": [],
   "source": [
    "nontr = ['monet_0', 'monet_1', 'monet_3', 'ppp']\n",
    "u1_nontr = pd.DataFrame(data = np.nan, index = nontr, \\\n",
    "                         columns = np.sort(country_list))\n",
    "\n",
    "for country in np.sort(country_list):\n",
    "    for x in nontr:\n",
    "        value = float(all_df[country]['u_stat']['u_stat_1'].loc[x])\n",
    "        u1_nontr[country].loc[x] = bold_formatter(value)\n",
    "        \n",
    "u1_nontr.rename(columns = {\"ID\":\"Indonesia\", \"MY\":\"Malaysia\", \"SG\":\"Singapore\", \"TH\":\"Thailand\"}, inplace = True)\n"
   ]
  },
  {
   "cell_type": "code",
   "execution_count": null,
   "id": "63b0afa0",
   "metadata": {},
   "outputs": [],
   "source": [
    "u3_nontr = pd.DataFrame(data = np.nan, index = nontr, \\\n",
    "                         columns = np.sort(country_list))\n",
    "u6_nontr = pd.DataFrame(data = np.nan, index = nontr, \\\n",
    "                         columns = np.sort(country_list))\n",
    "u12_nontr = pd.DataFrame(data = np.nan, index = nontr, \\\n",
    "                         columns = np.sort(country_list))\n",
    "\n",
    "for country in np.sort(country_list):\n",
    "    for x in nontr:\n",
    "        value_3 = float(all_df[country]['u_stat']['u_stat_3'].loc[x])\n",
    "        u3_nontr[country].loc[x] = bold_formatter(value_3)\n",
    "        value_6 = float(all_df[country]['u_stat']['u_stat_6'].loc[x])\n",
    "        u6_nontr[country].loc[x] = bold_formatter(value_6)\n",
    "        value_12 = float(all_df[country]['u_stat']['u_stat_12'].loc[x])\n",
    "        u12_nontr[country].loc[x] = bold_formatter(value_12)\n",
    "        \n",
    "u3_nontr.rename(columns = {\"ID\":\"Indonesia\", \"MY\":\"Malaysia\", \"SG\":\"Singapore\", \"TH\":\"Thailand\"}, inplace = True)\n",
    "u6_nontr.rename(columns = {\"ID\":\"Indonesia\", \"MY\":\"Malaysia\", \"SG\":\"Singapore\", \"TH\":\"Thailand\"}, inplace = True)\n",
    "u12_nontr.rename(columns = {\"ID\":\"Indonesia\", \"MY\":\"Malaysia\", \"SG\":\"Singapore\", \"TH\":\"Thailand\"}, inplace = True)"
   ]
  },
  {
   "cell_type": "code",
   "execution_count": null,
   "id": "6000a7a7",
   "metadata": {},
   "outputs": [],
   "source": [
    "print(np.transpose(u1_nontr).to_latex(index = True, escape = False))\n",
    "print(np.transpose(u3_nontr).to_latex(index = True, escape = False))\n",
    "print(np.transpose(u6_nontr).to_latex(index = True, escape = False))\n",
    "print(np.transpose(u12_nontr).to_latex(index = True, escape = False))"
   ]
  },
  {
   "cell_type": "markdown",
   "id": "d7646149",
   "metadata": {},
   "source": [
    "### Plot some forecasts"
   ]
  },
  {
   "cell_type": "code",
   "execution_count": null,
   "id": "50318231",
   "metadata": {
    "scrolled": true
   },
   "outputs": [],
   "source": [
    "save_results_to_1 = 'path-to-save'\n",
    "for country in country_list:\n",
    "    plt.clf() # Clear figure\n",
    "    plt.plot(all_df[country]['data']['s']\\\n",
    "             [len(all_df[country]['data']['s'])-len(all_df[country]['result']['h=1']['HP_Filter_tr01']):].index,\\\n",
    "             all_df[country]['data']['s']\\\n",
    "             [len(all_df[country]['data']['s'])-len(all_df[country]['result']['h=1']['HP_Filter_tr01']):], \\\n",
    "                label = 'Actual')\n",
    "    plt.plot(all_df[country]['result']['h=1']['HP_Filter_tr01'].index,all_df[country]['result']['h=1']['HP_Filter_tr01'], \\\n",
    "             label = 'Predicted', linestyle = 'dashdot')\n",
    "    plt.plot(all_df[country]['data']['s']\\\n",
    "             [len(all_df[country]['data']['s'])-len(all_df[country]['result']['h=1']['HP_Filter_tr01']):].index,\\\n",
    "             all_df[country]['data']['s']\\\n",
    "             [len(all_df[country]['data']['s'])-len(all_df[country]['result']['h=1']['HP_Filter_tr01'])-1:-1], \\\n",
    "                label = 'Random Walk', linestyle = ':')\n",
    "    plt.xticks(rotation = 45)\n",
    "    plt.legend()\n",
    "    plt.xlabel('Time')\n",
    "    plt.ylabel('$s$')\n",
    "    #plt.savefig(save_results_to_1+country+'_HP_Filter_tr01'+'_h1',bbox_inches = 'tight', dpi = 300)"
   ]
  },
  {
   "cell_type": "markdown",
   "id": "8511c78b",
   "metadata": {},
   "source": [
    "# Vary the Discounted Factor for the Coefficients.<a name='vary-discount-factor'></a>"
   ]
  },
  {
   "cell_type": "code",
   "execution_count": null,
   "id": "0480d5b4",
   "metadata": {},
   "outputs": [],
   "source": [
    "vary_del_list = [i/20 for i in range(0, 21)] # The list containing the value 0, 0.05, 0.1 ,...,1\n",
    "\n",
    "vary_del_list_str = [str(vary_del_list[i]) for i in range(len(vary_del_list))]\n",
    "\n",
    "temp_dict = {'0.0':{'ID':{'vary_result':{}, 'vary_u_stat':{}}, 'MY':{'vary_result':{}, 'vary_u_stat':{}},\\\n",
    "             'SG':{'vary_result':{}, 'vary_u_stat':{}}, 'TH':{'vary_result':{}, 'vary_u_stat':{}}}}\n",
    "\n",
    "for j in range(1,len(vary_del_list)):\n",
    "    temp_dict.update({vary_del_list_str[j]:{'ID':{'vary_result':{}, 'vary_u_stat':{}}, \\\n",
    "                                            'MY':{'vary_result':{}, 'vary_u_stat':{}},\\\n",
    "                                            'SG':{'vary_result':{}, 'vary_u_stat':{}}, \\\n",
    "                                            'TH':{'vary_result':{}, 'vary_u_stat':{}}}})"
   ]
  },
  {
   "cell_type": "code",
   "execution_count": null,
   "id": "98ccf018",
   "metadata": {},
   "outputs": [],
   "source": [
    "D = 20 # The number of observations that are discarded to obtain the prior distribution of the coefficients.\n",
    "forecast_horizon = [1,3,6,12]\n",
    "target = ['d_s_'+str(forecast_horizon[i]) for i in range(len(forecast_horizon))]\n",
    "\n",
    "for country in country_list:\n",
    "    R = math.ceil(0.8*(len(all_df[country]['data'])-D)) # 80% of the data will be used to update the parameters\n",
    "    P = len(all_df[country]['data'])-D-math.ceil(0.8*(len(all_df[country]['data'])-D)) # 20% will be the test set.\n",
    "    print(f\"Train set of {country} = {R}\")\n",
    "    print(f\"Test set of {country} = {P}\")\n",
    "    for h in range(len(forecast_horizon)):\n",
    "# Set up the forecast_start and forecast_end for each forecast horizon\n",
    "        forecast_start = D+R\n",
    "        forecast_end = D+R+P-forecast_horizon[h]\n",
    "        for del_value,del_str in zip(vary_del_list,vary_del_list_str):\n",
    "# Create the dataframe that contains the predicted values.\n",
    "            temp_dict[del_str][country]['vary_result'].update({'h='+str(forecast_horizon[h]):pd.DataFrame(data = np.nan, index = all_df[country]['fund'].index[D+R+forecast_horizon[h]-1:D+R+P],columns = all_df[country]['fund'].columns)})\n",
    "# Create the dataframe that contains the U-statistics.\n",
    "            temp_dict[del_str][country]['vary_u_stat'].update({'u_stat_'+str(forecast_horizon[h]):pd.DataFrame(data = np.nan, index = all_df[country]['fund'].columns, columns = ['U_Stat'])})\n",
    "# Create the dataframe containning the actual value and its lagged term.\n",
    "            benchmark = pd.DataFrame(data = all_df[country]['data']['s'][(D+R-1):(D+R+P)-forecast_horizon[h]].values, \\\n",
    "                                     index = all_df[country]['fund'].index[D+R+forecast_horizon[h]-1:D+R+P],\\\n",
    "                                     columns = ['RW'])\n",
    "            benchmark['Actual'] = all_df[country]['data']['s'][D+R+forecast_horizon[h]-1:D+R+P].values\n",
    "            for fund in all_df[country]['fund'].columns:\n",
    "                mod_forecast, samples_forecast,mod_coef = analysis(all_df[country]['data'][target[h]].values,\\\n",
    "                                                               all_df[country]['fund'][fund].values.reshape(-1,1),\\\n",
    "                                                               family=\"normal\",\\\n",
    "                                                               forecast_start=forecast_start,\\\n",
    "                                                               forecast_end=forecast_end,\\\n",
    "                                                               k=1,\\\n",
    "                                                               prior_length=D,\\\n",
    "                                                               rho=.5,\\\n",
    "                                                               deltrend= del_value,\\\n",
    "                                                               delregn= del_value,\\\n",
    "                                                               ret = ['model', 'forecast', 'model_coef'])\n",
    "                forecast_median = median(samples_forecast)\n",
    "                temp_dict[del_str][country]['vary_result']['h='+str(forecast_horizon[h])][fund] = forecast_median + np.array(all_df[country]['data']['s'][forecast_start-1:forecast_end])\n",
    "# Calculate U-statistics\n",
    "                agg_numerator = 0\n",
    "                agg_denominator = 0\n",
    "                for j in range(len(temp_dict[del_str][country]['vary_result']['h='+str(forecast_horizon[h])][fund])):\n",
    "                    numerator = (temp_dict[del_str][country]['vary_result']['h='+str(forecast_horizon[h])][fund].iloc[j]-benchmark.iloc[j]['Actual'])/benchmark.iloc[j]['RW']\n",
    "                    denominator = (benchmark.iloc[j]['Actual']-benchmark.iloc[j]['RW'])/benchmark.iloc[j]['RW']\n",
    "                    agg_numerator += numerator*numerator\n",
    "                    agg_denominator += denominator*denominator\n",
    "                    u = np.sqrt(agg_numerator/agg_denominator)\n",
    "                    temp_dict[del_str][country]['vary_u_stat']['u_stat_'+str(forecast_horizon[h])].loc[fund] = u"
   ]
  },
  {
   "cell_type": "code",
   "execution_count": null,
   "id": "d062f6fd",
   "metadata": {},
   "outputs": [],
   "source": [
    "vary_del_dict = {'h=1':pd.DataFrame(data = np.nan, index = vary_del_list, columns = country_list),\\\n",
    "                'h=3':pd.DataFrame(data = np.nan, index = vary_del_list, columns = country_list),\\\n",
    "                'h=6':pd.DataFrame(data = np.nan, index = vary_del_list, columns = country_list),\\\n",
    "                'h=12':pd.DataFrame(data = np.nan, index = vary_del_list, columns = country_list)}\n",
    "\n",
    "for h in forecast_horizon:\n",
    "    for del_value,del_str in zip(vary_del_list,vary_del_list_str):\n",
    "        for country in country_list:\n",
    "            vary_del_dict['h='+str(h)][country].loc[del_value] = \\\n",
    "            np.average(temp_dict[del_str][country]['vary_u_stat']['u_stat_'+str(h)])"
   ]
  },
  {
   "cell_type": "code",
   "execution_count": null,
   "id": "69cf834a",
   "metadata": {
    "scrolled": true
   },
   "outputs": [],
   "source": [
    "save_results_to_2 = 'path-to-save'\n",
    "for country in country_list:\n",
    "    plt.clf()\n",
    "    plt.plot(vary_del_list,vary_del_dict['h=1'][country], label = 'h=1')\n",
    "    plt.plot(vary_del_list,vary_del_dict['h=3'][country], label = 'h=3', linestyle = 'dotted')\n",
    "    plt.plot(vary_del_list,vary_del_dict['h=6'][country], label = 'h=6', linestyle = 'dashed')\n",
    "    plt.plot(vary_del_list,vary_del_dict['h=12'][country], label = 'h=12', linestyle = 'dashdot')\n",
    "    plt.legend()\n",
    "    plt.ylabel('Average Theil\\'s U statistics')\n",
    "    plt.xlabel('Discount factor')\n",
    "    #plt.savefig(save_results_to_2+country+'_delta_varying', dpi = 300)"
   ]
  },
  {
   "cell_type": "code",
   "execution_count": null,
   "id": "2b70bc84",
   "metadata": {},
   "outputs": [],
   "source": []
  }
 ],
 "metadata": {
  "kernelspec": {
   "display_name": "Python 3 (ipykernel)",
   "language": "python",
   "name": "python3"
  },
  "language_info": {
   "codemirror_mode": {
    "name": "ipython",
    "version": 3
   },
   "file_extension": ".py",
   "mimetype": "text/x-python",
   "name": "python",
   "nbconvert_exporter": "python",
   "pygments_lexer": "ipython3",
   "version": "3.9.13"
  }
 },
 "nbformat": 4,
 "nbformat_minor": 5
}
