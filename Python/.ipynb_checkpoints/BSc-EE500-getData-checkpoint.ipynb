{
 "cells": [
  {
   "cell_type": "markdown",
   "id": "9cf505dc",
   "metadata": {},
   "source": [
    "This book contains Python code used in EE500 Senior Honors Thesis at Bachelor of Economics, Thammasat University, Thailand. \n",
    "\n",
    "$\\textbf{Project name}: \\textit{\"Out-of-sample exchange rate predictability of selected countries in ASEAN\"}$\n",
    "\n",
    "$\\textbf{Authors}$: Thanakrit Methasate\n",
    "\n",
    "This notebook is used to retrieve data from International Financial Statistics (IFS) from International Monetary Fund (IMF)\n",
    "\n",
    "The outline of this book is as follows:\n",
    "* [Import libraries](#lib)\n",
    "* [Searching](#part-search)\n",
    "  * [Which series are available?](#search)\n",
    "  * [What is the data structure?](#data-structure)\n",
    "  * [What is the key representing each country?](#country-key)\n",
    "    * [Search by words](#country-key-by-word)\n",
    "  * [What is the key representing a series](#series-key)\n",
    "  * [Whether the series are available to specific countries?](#check-avai)\n",
    "* [Retreiving](#part-retrieve)\n",
    "  * [Get data from web to dataframe](#dataframe)\n",
    "  * [Dataframe manipulation](#df-manipulate)"
   ]
  },
  {
   "cell_type": "markdown",
   "id": "9e408d9b",
   "metadata": {},
   "source": [
    "# Import libraries<a name='lib'></a>"
   ]
  },
  {
   "cell_type": "code",
   "execution_count": null,
   "id": "f9189f4e",
   "metadata": {},
   "outputs": [],
   "source": [
    "import requests\n",
    "import pandas as pd"
   ]
  },
  {
   "cell_type": "markdown",
   "id": "9f28037e",
   "metadata": {},
   "source": [
    "# Searching<a name='part-search'></a>"
   ]
  },
  {
   "cell_type": "markdown",
   "id": "9c8be558",
   "metadata": {},
   "source": [
    "## Search Series from IFS Database<a name='search'></a>"
   ]
  },
  {
   "cell_type": "code",
   "execution_count": null,
   "id": "b99a680e",
   "metadata": {},
   "outputs": [],
   "source": [
    "url = 'http://dataservices.imf.org/REST/SDMX_JSON.svc/'\n",
    "key = 'Dataflow'  # Method with series information\n",
    "search_term = 'Financial'  # Term to find in series names\n",
    "series_list = requests.get(f'{url}{key}').json()\\\n",
    "            ['Structure']['Dataflows']['Dataflow']\n",
    "# Use dict keys to navigate through results:\n",
    "for series in series_list:\n",
    "    if search_term in series['Name']['#text']:\n",
    "        print(f\"{series['Name']['#text']}: {series['KeyFamilyRef']['KeyFamilyID']}\")"
   ]
  },
  {
   "cell_type": "markdown",
   "id": "1dcae079",
   "metadata": {},
   "source": [
    "## See Data Structure<a name='data-structure'></a>"
   ]
  },
  {
   "cell_type": "code",
   "execution_count": null,
   "id": "091520d1",
   "metadata": {},
   "outputs": [],
   "source": [
    "key = 'DataStructure/IFS'  # Method / series\n",
    "dimension_list = requests.get(f'{url}{key}').json()\\\n",
    "            ['Structure']['KeyFamilies']['KeyFamily']\\\n",
    "            ['Components']['Dimension']\n",
    "for n, dimension in enumerate(dimension_list):\n",
    "    print(f\"Dimension {n+1}: {dimension['@codelist']}\")"
   ]
  },
  {
   "cell_type": "markdown",
   "id": "eaa27768",
   "metadata": {},
   "source": [
    "## Find the key representing the country.<a name='country-key'></a>"
   ]
  },
  {
   "cell_type": "markdown",
   "id": "c5132f65",
   "metadata": {},
   "source": [
    "In this research paper, we attempt to use the data for all of the 10 countries in ASEAN which are Indonesia, Malaysia, Thailand, and Singapore."
   ]
  },
  {
   "cell_type": "code",
   "execution_count": null,
   "id": "e2dab6b4",
   "metadata": {},
   "outputs": [],
   "source": [
    "countries = ['Indonesia', \"Malaysia\", \"Thailand\", 'Singapore']"
   ]
  },
  {
   "cell_type": "code",
   "execution_count": null,
   "id": "3656aaf3",
   "metadata": {},
   "outputs": [],
   "source": [
    "country_key =[]\n",
    "for j in range(len(countries)):\n",
    "    key = f\"CodeList/{dimension_list[1]['@codelist']}\"\n",
    "    search_term_series = countries[j]\n",
    "    code_list = requests.get(f'{url}{key}').json()\\\n",
    "    ['Structure']['CodeLists']['CodeList']['Code']\n",
    "    for code in code_list:\n",
    "        if search_term_series in code['Description']['#text']:\n",
    "            country_key.append(code['@value'])\n",
    "            print(f\"{code['Description']['#text']}: {code['@value']}\")"
   ]
  },
  {
   "cell_type": "markdown",
   "id": "71806b47",
   "metadata": {
    "scrolled": true
   },
   "source": [
    "### Search by words<a name='country-key-by-word'></a>"
   ]
  },
  {
   "cell_type": "code",
   "execution_count": null,
   "id": "3a64cbca",
   "metadata": {},
   "outputs": [],
   "source": [
    "key = f\"CodeList/{dimension_list[1]['@codelist']}\"\n",
    "search_term_series = 'United' # Search by word\n",
    "code_list = requests.get(f'{url}{key}').json()\\\n",
    "['Structure']['CodeLists']['CodeList']['Code']\n",
    "for code in code_list:\n",
    "    if search_term_series in code['Description']['#text']:\n",
    "        print(f\"{code['Description']['#text']}: {code['@value']}\")"
   ]
  },
  {
   "cell_type": "markdown",
   "id": "03a5f58f",
   "metadata": {},
   "source": [
    "## Get key of the series<a name='series-key'></a>"
   ]
  },
  {
   "cell_type": "code",
   "execution_count": null,
   "id": "1804cff1",
   "metadata": {},
   "outputs": [],
   "source": [
    "key = f\"CodeList/{dimension_list[2]['@codelist']}\"\n",
    "search_term_series = 'Money'\n",
    "code_list = requests.get(f'{url}{key}').json()\\\n",
    "\t    ['Structure']['CodeLists']['CodeList']['Code']\n",
    "for code in code_list:\n",
    "    if search_term_series in code['Description']['#text']:\n",
    "        print(f\"{code['Description']['#text']}: {code['@value']}\")"
   ]
  },
  {
   "cell_type": "markdown",
   "id": "647f5325",
   "metadata": {},
   "source": [
    "#### Real GDP\n",
    "- Gross Domestic Product, Real, Seasonally Adjusted, Domestic Currency: NGDP_R_SA_XDC\n",
    "\n",
    "#### Industrial Production Index\n",
    "- Economic Activity, Industrial Production, Index: AIP_IX\n",
    "\n",
    "#### Exchange Rate\n",
    "- Exchange Rates, Domestic Currency per U.S. Dollar, End of Period, Rate: ENDE_XDC_USD_RATE\n",
    "- Exchange Rates, Domestic Currency per U.S. Dollar, Period Average, Rate: ENDA_XDC_USD_RATE\n",
    "- Exchange Rates, Real Effective Exchange Rate based on Consumer Price Index, Index: EREER_IX\n",
    "\n",
    "#### International Reserve\n",
    "- International Reserves, Official Reserve Assets, US Dollars: RAFA_USD\n",
    "\n",
    "#### Price Index\n",
    "- Prices, Consumer Price Index, All items, Index: PCPI_IX\n",
    "\n",
    "#### Interest Rate\n",
    "- Financial, Interest Rates, Government Securities, Government Bonds, Percent per annum: FIGB_PA\n",
    "- Financial, Interest Rates, Money Market, Percent per annum: FIMM_PA\n",
    "\n",
    "#### REER\n",
    "- Exchange Rates, Real Effective Exchange Rate based on Consumer Price Index, Index: EREER_IX\n",
    "\n",
    "#### Money Supply\n",
    "- Monetary, Liquidity of Money, Alternate Definition 1, Seasonally Adjusted, Domestic Currency: FML_A1_SA_XDC\n",
    "- Monetary, Broad Money, Domestic Currency: FMB_XDC\n",
    "- Monetary, Base Money, Domestic Currency: FMA_XDC\n",
    "- Monetary, Base Money, US Dollars: FMA_USD"
   ]
  },
  {
   "cell_type": "markdown",
   "id": "c3e8178c",
   "metadata": {},
   "source": [
    "## Check if the series are available for all countries in question<a name='check-avai'></a>"
   ]
  },
  {
   "cell_type": "code",
   "execution_count": null,
   "id": "7f963a21",
   "metadata": {},
   "outputs": [],
   "source": [
    "series_fundamental = ['FMB_XDC', 'PCPI_IX', 'ENDE_XDC_USD_RATE', 'FIMM_PA']"
   ]
  },
  {
   "cell_type": "code",
   "execution_count": null,
   "id": "7cadd396",
   "metadata": {},
   "outputs": [],
   "source": [
    "url = 'http://dataservices.imf.org/REST/SDMX_JSON.svc/'\n",
    "key = 'CompactData/IFS/M.ID.FIMM_PA' # adjust codes here\n",
    "data = (requests.get(f'{url}{key}').json()['CompactData']['DataSet']['Series'])\n",
    "print(data['Obs'][-3:-1]) # Print latest observation"
   ]
  },
  {
   "cell_type": "code",
   "execution_count": null,
   "id": "16a01355",
   "metadata": {},
   "outputs": [],
   "source": [
    "for j in range(len(country_key)):\n",
    "    main = 'CompactData/IFS/'\n",
    "    feq = 'M.'\n",
    "    country = country_key[j]\n",
    "    for k in range(len(series_fundamental)):\n",
    "        series = '.'+series_fundamental[k]\n",
    "        key = main+feq+country+series\n",
    "        print(key)"
   ]
  },
  {
   "cell_type": "code",
   "execution_count": null,
   "id": "d74339f3",
   "metadata": {},
   "outputs": [],
   "source": [
    "for j in range(len(country_key)):\n",
    "    main = 'CompactData/IFS/'\n",
    "    feq = 'M.'\n",
    "    country = country_key[j]\n",
    "    for k in range(len(series_fundamental)):\n",
    "        series = '.'+series_fundamental[k]\n",
    "        key = main+feq+country+series\n",
    "        try:\n",
    "            url = 'http://dataservices.imf.org/REST/SDMX_JSON.svc/'\n",
    "            data = (requests.get(f'{url}{key}').json()['CompactData']['DataSet']['Series'])\n",
    "            print(f\"Country: {country_key[j]}, Indicator: {series_fundamental[k]}\\\n",
    "            {data['Obs'][-1]}\") # Print latest observation\n",
    "        except KeyError:\n",
    "            print(f\"!!! Country: {country_key[j]}, Indicator: {series_fundamental[k]} does not exist in the database. !!!\")"
   ]
  },
  {
   "cell_type": "code",
   "execution_count": null,
   "id": "5145a70f",
   "metadata": {},
   "outputs": [],
   "source": [
    "#The industrial production index for Thailand and Indonesia do not exist in the database."
   ]
  },
  {
   "cell_type": "markdown",
   "id": "f107afec",
   "metadata": {},
   "source": [
    "# Retrieving <a name='part-retrieve'></a>"
   ]
  },
  {
   "cell_type": "markdown",
   "id": "cb06323b",
   "metadata": {},
   "source": [
    "## Push data into the dataframe<a name='dataframe'></a>"
   ]
  },
  {
   "cell_type": "markdown",
   "id": "878f5bdb",
   "metadata": {},
   "source": [
    "### Download the data to the DataFrame: Malaysia\n",
    "We, first, download the data just only for Malaysia since\n",
    "- The connection error arises very easily.\n",
    "- Malaysia has the industrial production series unlike others"
   ]
  },
  {
   "cell_type": "code",
   "execution_count": null,
   "id": "f2f89ee1",
   "metadata": {},
   "outputs": [],
   "source": [
    "data_my = pd.DataFrame()\n",
    "main = 'CompactData/IFS/'\n",
    "feq = 'M.'\n",
    "\n",
    "country = 'MY' #Malaysia\n",
    "for k in range(len(series_fundamental)):\n",
    "    series = '.'+series_fundamental[k]\n",
    "    key = main+feq+country+series\n",
    "    try:\n",
    "        url = 'http://dataservices.imf.org/REST/SDMX_JSON.svc/'\n",
    "        data = (requests.get(f'{url}{key}').json()['CompactData']['DataSet']['Series'])\n",
    "        data_list =  [[obs.get('@TIME_PERIOD'), obs.get('@OBS_VALUE')] for obs in data['Obs']]\n",
    "        temp_pd = pd.DataFrame(data_list, columns=['date', 'MY_'+series_fundamental[k]])\n",
    "        temp_pd = temp_pd.set_index(pd.to_datetime(temp_pd['date']))['MY_'+series_fundamental[k]].astype('float')\n",
    "        data_my['MY_'+series_fundamental[k]] = temp_pd\n",
    "    except KeyError:\n",
    "        print(f\"!!! Country: MY , Indicator: {series_fundamental[k]} does not exist in the database. !!!\")"
   ]
  },
  {
   "cell_type": "code",
   "execution_count": null,
   "id": "fd2bebca",
   "metadata": {},
   "outputs": [],
   "source": [
    "data_my"
   ]
  },
  {
   "cell_type": "code",
   "execution_count": null,
   "id": "c2dad8dd",
   "metadata": {
    "scrolled": true
   },
   "outputs": [],
   "source": [
    "data_my[:-40]"
   ]
  },
  {
   "cell_type": "code",
   "execution_count": null,
   "id": "bc7d5164",
   "metadata": {},
   "outputs": [],
   "source": [
    "data_my['MY_ENDE_XDC_USD_RATE'].plot()"
   ]
  },
  {
   "cell_type": "markdown",
   "id": "c54de4e0",
   "metadata": {},
   "source": [
    "### Download the data to the DataFrame: US"
   ]
  },
  {
   "cell_type": "code",
   "execution_count": null,
   "id": "ce202fc1",
   "metadata": {},
   "outputs": [],
   "source": [
    "series_fundamental_US = ['PCPI_IX', 'AIP_IX', 'FIMM_PA']"
   ]
  },
  {
   "cell_type": "code",
   "execution_count": null,
   "id": "0237fe9f",
   "metadata": {},
   "outputs": [],
   "source": [
    "main = 'CompactData/IFS/'\n",
    "feq = 'M.'\n",
    "country = 'US'\n",
    "for k in range(len(series_fundamental_US)):\n",
    "    series = '.'+series_fundamental_US[k]\n",
    "    key = main+feq+country+series\n",
    "    try:\n",
    "        url = 'http://dataservices.imf.org/REST/SDMX_JSON.svc/'\n",
    "        data = (requests.get(f'{url}{key}').json()['CompactData']['DataSet']['Series'])\n",
    "        print(f\"Country: US, Indicator: {series_fundamental_US[k]}\\\n",
    "        {data['Obs'][-1]}\") # Print latest observation\n",
    "    except KeyError:\n",
    "        print(f\"!!! Country: US, Indicator: {series_fundamental_US[k]} does not exist in the database. !!!\")"
   ]
  },
  {
   "cell_type": "code",
   "execution_count": null,
   "id": "ee2d6ac4",
   "metadata": {},
   "outputs": [],
   "source": [
    "data_us = pd.DataFrame()\n",
    "main = 'CompactData/IFS/'\n",
    "feq = 'M.'\n",
    "country = 'US' #US\n",
    "for k in range(len(series_fundamental_US)):\n",
    "    series = '.'+series_fundamental_US[k]\n",
    "    key = main+feq+country+series\n",
    "    try:\n",
    "        url = 'http://dataservices.imf.org/REST/SDMX_JSON.svc/'\n",
    "        data = (requests.get(f'{url}{key}').json()['CompactData']['DataSet']['Series'])\n",
    "        data_list =  [[obs.get('@TIME_PERIOD'), obs.get('@OBS_VALUE')] for obs in data['Obs']]\n",
    "        temp_pd = pd.DataFrame(data_list, columns=['date', 'US_'+series_fundamental_US[k]])\n",
    "        temp_pd = temp_pd.set_index(pd.to_datetime(temp_pd['date']))['US_'+series_fundamental_US[k]].astype('float')\n",
    "        data_us['US_'+series_fundamental_US[k]] = temp_pd\n",
    "    except KeyError:\n",
    "        print(f\"!!! Country: US , Indicator: {series_fundamental_US[k]} does not exist in the database. !!!\")"
   ]
  },
  {
   "cell_type": "code",
   "execution_count": null,
   "id": "886456f2",
   "metadata": {},
   "outputs": [],
   "source": [
    "data_us"
   ]
  },
  {
   "cell_type": "markdown",
   "id": "f936d88e",
   "metadata": {},
   "source": [
    "### Download the data to the DataFrame: Indonesia"
   ]
  },
  {
   "cell_type": "code",
   "execution_count": null,
   "id": "b5644e1e",
   "metadata": {},
   "outputs": [],
   "source": [
    "series_fundamental_id = ['PCPI_IX', 'ENDE_XDC_USD_RATE','FIMM_PA']"
   ]
  },
  {
   "cell_type": "code",
   "execution_count": null,
   "id": "6808ed63",
   "metadata": {},
   "outputs": [],
   "source": [
    "data_id = pd.DataFrame()\n",
    "main = 'CompactData/IFS/'\n",
    "feq = 'M.'\n",
    "\n",
    "country = 'ID' #Indonesia\n",
    "for k in range(len(series_fundamental_id)):\n",
    "    series = '.'+series_fundamental_id[k]\n",
    "    key = main+feq+country+series\n",
    "    try:\n",
    "        url = 'http://dataservices.imf.org/REST/SDMX_JSON.svc/'\n",
    "        data = (requests.get(f'{url}{key}').json()['CompactData']['DataSet']['Series'])\n",
    "        data_list =  [[obs.get('@TIME_PERIOD'), obs.get('@OBS_VALUE')] for obs in data['Obs']]\n",
    "        temp_pd = pd.DataFrame(data_list, columns=['date', 'ID_'+series_fundamental_id[k]])\n",
    "        temp_pd = temp_pd.set_index(pd.to_datetime(temp_pd['date']))['ID_'+series_fundamental_id[k]].astype('float')\n",
    "        data_id['ID_'+series_fundamental_id[k]] = temp_pd\n",
    "    except KeyError:\n",
    "        print(f\"!!! Country: ID , Indicator: {series_fundamental_id[k]} does not exist in the database. !!!\")"
   ]
  },
  {
   "cell_type": "markdown",
   "id": "a55b98ca",
   "metadata": {},
   "source": [
    "### Download the data to the DataFrame: Thailand"
   ]
  },
  {
   "cell_type": "code",
   "execution_count": null,
   "id": "b2c26875",
   "metadata": {},
   "outputs": [],
   "source": [
    "data_th = pd.DataFrame()\n",
    "main = 'CompactData/IFS/'\n",
    "feq = 'M.'\n",
    "\n",
    "country = 'TH' #Thailand\n",
    "for k in range(len(series_fundamental_id)):\n",
    "    series = '.'+series_fundamental_id[k]\n",
    "    key = main+feq+country+series\n",
    "    try:\n",
    "        url = 'http://dataservices.imf.org/REST/SDMX_JSON.svc/'\n",
    "        data = (requests.get(f'{url}{key}').json()['CompactData']['DataSet']['Series'])\n",
    "        data_list =  [[obs.get('@TIME_PERIOD'), obs.get('@OBS_VALUE')] for obs in data['Obs']]\n",
    "        temp_pd = pd.DataFrame(data_list, columns=['date', 'TH_'+series_fundamental_id[k]])\n",
    "        temp_pd = temp_pd.set_index(pd.to_datetime(temp_pd['date']))['TH_'+series_fundamental_id[k]].astype('float')\n",
    "        data_th['TH_'+series_fundamental_id[k]] = temp_pd\n",
    "    except KeyError:\n",
    "        print(f\"!!! Country: TH , Indicator: {series_fundamental_id[k]} does not exist in the database. !!!\")"
   ]
  },
  {
   "cell_type": "code",
   "execution_count": null,
   "id": "1d148281",
   "metadata": {},
   "outputs": [],
   "source": [
    "#data_th.to_excel('Data_th.xlsx')"
   ]
  },
  {
   "cell_type": "markdown",
   "id": "f98b6a2d",
   "metadata": {},
   "source": [
    "### Download the data to the DataFrame: Singapore"
   ]
  },
  {
   "cell_type": "code",
   "execution_count": null,
   "id": "09d23ed1",
   "metadata": {},
   "outputs": [],
   "source": [
    "series_fundamental"
   ]
  },
  {
   "cell_type": "code",
   "execution_count": null,
   "id": "d7917709",
   "metadata": {},
   "outputs": [],
   "source": [
    "series_fundamental_2 = ['PCPI_IX', 'ENDE_XDC_USD_RATE', 'FIMM_PA']"
   ]
  },
  {
   "cell_type": "code",
   "execution_count": null,
   "id": "bd2b7e75",
   "metadata": {},
   "outputs": [],
   "source": [
    "data_sg = pd.DataFrame()\n",
    "main = 'CompactData/IFS/'\n",
    "feq = 'M.'\n",
    "\n",
    "country = 'SG' #Singapore\n",
    "for k in range(len(series_fundamental_2)):\n",
    "    series = '.'+series_fundamental_2[k]\n",
    "    key = main+feq+country+series\n",
    "    try:\n",
    "        url = 'http://dataservices.imf.org/REST/SDMX_JSON.svc/'\n",
    "        data = (requests.get(f'{url}{key}').json()['CompactData']['DataSet']['Series'])\n",
    "        data_list =  [[obs.get('@TIME_PERIOD'), obs.get('@OBS_VALUE')] for obs in data['Obs']]\n",
    "        temp_pd = pd.DataFrame(data_list, columns=['date', 'SG_'+series_fundamental_2[k]])\n",
    "        temp_pd = temp_pd.set_index(pd.to_datetime(temp_pd['date']))['SG_'+series_fundamental_2[k]].astype('float')\n",
    "        data_sg['SG_'+series_fundamental_2[k]] = temp_pd\n",
    "    except KeyError:\n",
    "        print(f\"!!! Country: SG , Indicator: {series_fundamental_2[k]} does not exist in the database. !!!\")"
   ]
  },
  {
   "cell_type": "code",
   "execution_count": null,
   "id": "ddf717e3",
   "metadata": {},
   "outputs": [],
   "source": [
    "data_sg"
   ]
  },
  {
   "cell_type": "code",
   "execution_count": null,
   "id": "41cdfda6",
   "metadata": {
    "scrolled": true
   },
   "outputs": [],
   "source": [
    "data_sg['SG_FIMM_PA'].plot()"
   ]
  },
  {
   "cell_type": "code",
   "execution_count": null,
   "id": "a5954ee1",
   "metadata": {},
   "outputs": [],
   "source": [
    "data_sg['SG_ENDE_XDC_USD_RATE'].plot()"
   ]
  },
  {
   "cell_type": "code",
   "execution_count": null,
   "id": "1b13e66a",
   "metadata": {},
   "outputs": [],
   "source": [
    "data_sg"
   ]
  },
  {
   "cell_type": "markdown",
   "id": "1a06b784",
   "metadata": {},
   "source": [
    "## Join some dataframe together<a name='df-manipulate'></a>"
   ]
  },
  {
   "cell_type": "code",
   "execution_count": null,
   "id": "90c9aa5e",
   "metadata": {},
   "outputs": [],
   "source": [
    "#Exclude Indonesia\n",
    "data_ex_id = pd.concat([data_my, data_th, data_sg, data_us], axis = 1, join = 'inner')\n",
    "data_ex_id.dropna(inplace = True)"
   ]
  },
  {
   "cell_type": "code",
   "execution_count": null,
   "id": "a3717846",
   "metadata": {
    "scrolled": true
   },
   "outputs": [],
   "source": [
    "data_ex_id"
   ]
  },
  {
   "cell_type": "code",
   "execution_count": null,
   "id": "f5990925",
   "metadata": {},
   "outputs": [],
   "source": [
    "#Join all data\n",
    "data_all = pd.concat([data_my, data_id, data_th, data_sg, data_us], axis = 1, join = 'inner')\n",
    "data_all.dropna(inplace = True)"
   ]
  },
  {
   "cell_type": "code",
   "execution_count": null,
   "id": "b258175b",
   "metadata": {},
   "outputs": [],
   "source": [
    "data_all"
   ]
  },
  {
   "cell_type": "markdown",
   "id": "7d7745e9",
   "metadata": {},
   "source": [
    "with pd.ExcelWriter('EE400_Data_13122022.xlsx') as writer:\n",
    "    data_my.to_excel(writer, sheet_name = 'MY')\n",
    "    data_id.to_excel(writer, sheet_name = 'ID')\n",
    "    data_sg.to_excel(writer, sheet_name = 'SG')\n",
    "    data_th.to_excel(writer, sheet_name = 'TH')\n",
    "    data_us.to_excel(writer, sheet_name = 'US')\n",
    "    data_ex_id.to_excel(writer, sheet_name = 'All_ex_ID')\n",
    "    data_all.to_excel(writer, sheet_name = 'All')"
   ]
  },
  {
   "cell_type": "code",
   "execution_count": null,
   "id": "a07bacc6",
   "metadata": {
    "scrolled": true
   },
   "outputs": [],
   "source": [
    "data_my['MY_ENDE_XDC_USD_RATE'].iloc[0:50]"
   ]
  },
  {
   "cell_type": "code",
   "execution_count": null,
   "id": "877197bf",
   "metadata": {},
   "outputs": [],
   "source": [
    "data_all.index[79]"
   ]
  },
  {
   "cell_type": "code",
   "execution_count": null,
   "id": "69e3549f",
   "metadata": {
    "scrolled": true
   },
   "outputs": [],
   "source": [
    "data_all.iloc[79:-4,]"
   ]
  },
  {
   "cell_type": "code",
   "execution_count": null,
   "id": "64f95bdc",
   "metadata": {},
   "outputs": [],
   "source": [
    "data_all.iloc[79:-4,]"
   ]
  }
 ],
 "metadata": {
  "kernelspec": {
   "display_name": "Python 3 (ipykernel)",
   "language": "python",
   "name": "python3"
  },
  "language_info": {
   "codemirror_mode": {
    "name": "ipython",
    "version": 3
   },
   "file_extension": ".py",
   "mimetype": "text/x-python",
   "name": "python",
   "nbconvert_exporter": "python",
   "pygments_lexer": "ipython3",
   "version": "3.9.13"
  }
 },
 "nbformat": 4,
 "nbformat_minor": 5
}
